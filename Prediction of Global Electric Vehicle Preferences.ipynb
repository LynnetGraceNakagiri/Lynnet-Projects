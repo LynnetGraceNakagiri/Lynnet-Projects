{
 "cells": [
  {
   "cell_type": "code",
   "execution_count": 1,
   "metadata": {
    "vscode": {
     "languageId": "r"
    }
   },
   "outputs": [],
   "source": [
    "#install.packages(\"rlang\")\n",
    "#install.packages(\"caret\")\n",
    "#install.packages(\"dplyr\")\n",
    "#install.packages(\"gbm\")\n",
    "#install.packages(\"caret\")\n",
    "#install.packages(\"ggplot2\")\n",
    "#install.packages('pROC')"
   ]
  },
  {
   "cell_type": "code",
   "execution_count": 2,
   "metadata": {
    "vscode": {
     "languageId": "r"
    }
   },
   "outputs": [
    {
     "name": "stderr",
     "output_type": "stream",
     "text": [
      "\n",
      "Attaching package: 'dplyr'\n",
      "\n",
      "\n",
      "The following objects are masked from 'package:stats':\n",
      "\n",
      "    filter, lag\n",
      "\n",
      "\n",
      "The following objects are masked from 'package:base':\n",
      "\n",
      "    intersect, setdiff, setequal, union\n",
      "\n",
      "\n",
      "Loading required package: ggplot2\n",
      "\n",
      "Loading required package: lattice\n",
      "\n"
     ]
    }
   ],
   "source": [
    "# Load libraries\n",
    "library(dplyr)\n",
    "library(caret)\n",
    "library(readr)"
   ]
  },
  {
   "cell_type": "code",
   "execution_count": 3,
   "metadata": {
    "vscode": {
     "languageId": "r"
    }
   },
   "outputs": [],
   "source": [
    "# Load the dataset 'customer_churn'\n",
    "Electric_vehicles <- read.csv(\"EV Vehicles.csv\")"
   ]
  },
  {
   "cell_type": "markdown",
   "metadata": {},
   "source": [
    "### DATA DESCRIPTION"
   ]
  },
  {
   "cell_type": "code",
   "execution_count": 4,
   "metadata": {
    "vscode": {
     "languageId": "r"
    }
   },
   "outputs": [
    {
     "data": {
      "text/html": [
       "<table class=\"dataframe\">\n",
       "<caption>A data.frame: 6 × 17</caption>\n",
       "<thead>\n",
       "\t<tr><th></th><th scope=col>VIN..1.10.</th><th scope=col>County</th><th scope=col>City</th><th scope=col>State</th><th scope=col>Postal.Code</th><th scope=col>Model.Year</th><th scope=col>Make</th><th scope=col>Model</th><th scope=col>Electric.Vehicle.Type</th><th scope=col>Clean.Alternative.Fuel.Vehicle.Eligibility</th><th scope=col>Electric.Range</th><th scope=col>Base.MSRP</th><th scope=col>Legislative.District</th><th scope=col>DOL.Vehicle.ID</th><th scope=col>Vehicle.Location</th><th scope=col>Electric.Utility</th><th scope=col>X2020.Census.Tract</th></tr>\n",
       "\t<tr><th></th><th scope=col>&lt;chr&gt;</th><th scope=col>&lt;chr&gt;</th><th scope=col>&lt;chr&gt;</th><th scope=col>&lt;chr&gt;</th><th scope=col>&lt;int&gt;</th><th scope=col>&lt;int&gt;</th><th scope=col>&lt;chr&gt;</th><th scope=col>&lt;chr&gt;</th><th scope=col>&lt;chr&gt;</th><th scope=col>&lt;chr&gt;</th><th scope=col>&lt;int&gt;</th><th scope=col>&lt;int&gt;</th><th scope=col>&lt;int&gt;</th><th scope=col>&lt;int&gt;</th><th scope=col>&lt;chr&gt;</th><th scope=col>&lt;chr&gt;</th><th scope=col>&lt;dbl&gt;</th></tr>\n",
       "</thead>\n",
       "<tbody>\n",
       "\t<tr><th scope=row>1</th><td>5YJYGDEE1L</td><td>King     </td><td>Seattle  </td><td>WA</td><td>98122</td><td>2020</td><td>TESLA</td><td>MODEL Y</td><td>Battery Electric Vehicle (BEV)        </td><td>Clean Alternative Fuel Vehicle Eligible                     </td><td>291</td><td>0</td><td>37</td><td>125701579</td><td>POINT (-122.30839 47.610365) </td><td>CITY OF SEATTLE - (WA)|CITY OF TACOMA - (WA) </td><td>53033007800</td></tr>\n",
       "\t<tr><th scope=row>2</th><td>7SAYGDEE9P</td><td>Snohomish</td><td>Bothell  </td><td>WA</td><td>98021</td><td>2023</td><td>TESLA</td><td>MODEL Y</td><td>Battery Electric Vehicle (BEV)        </td><td>Eligibility unknown as battery range has not been researched</td><td>  0</td><td>0</td><td> 1</td><td>244285107</td><td>POINT (-122.179458 47.802589)</td><td>PUGET SOUND ENERGY INC                       </td><td>53061051938</td></tr>\n",
       "\t<tr><th scope=row>3</th><td>5YJSA1E4XK</td><td>King     </td><td>Seattle  </td><td>WA</td><td>98109</td><td>2019</td><td>TESLA</td><td>MODEL S</td><td>Battery Electric Vehicle (BEV)        </td><td>Clean Alternative Fuel Vehicle Eligible                     </td><td>270</td><td>0</td><td>36</td><td>156773144</td><td>POINT (-122.34848 47.632405) </td><td>CITY OF SEATTLE - (WA)|CITY OF TACOMA - (WA) </td><td>53033006800</td></tr>\n",
       "\t<tr><th scope=row>4</th><td>5YJSA1E27G</td><td>King     </td><td>Issaquah </td><td>WA</td><td>98027</td><td>2016</td><td>TESLA</td><td>MODEL S</td><td>Battery Electric Vehicle (BEV)        </td><td>Clean Alternative Fuel Vehicle Eligible                     </td><td>210</td><td>0</td><td> 5</td><td>165103011</td><td>POINT (-122.03646 47.534065) </td><td>PUGET SOUND ENERGY INC||CITY OF TACOMA - (WA)</td><td>53033032104</td></tr>\n",
       "\t<tr><th scope=row>5</th><td>5YJYGDEE5M</td><td>Kitsap   </td><td>Suquamish</td><td>WA</td><td>98392</td><td>2021</td><td>TESLA</td><td>MODEL Y</td><td>Battery Electric Vehicle (BEV)        </td><td>Eligibility unknown as battery range has not been researched</td><td>  0</td><td>0</td><td>23</td><td>205138552</td><td>POINT (-122.55717 47.733415) </td><td>PUGET SOUND ENERGY INC                       </td><td>53035940100</td></tr>\n",
       "\t<tr><th scope=row>6</th><td>3FA6P0SU8H</td><td>Thurston </td><td>Yelm     </td><td>WA</td><td>98597</td><td>2017</td><td>FORD </td><td>FUSION </td><td>Plug-in Hybrid Electric Vehicle (PHEV)</td><td>Not eligible due to low battery range                       </td><td> 21</td><td>0</td><td> 2</td><td>122057736</td><td>POINT (-122.61023 46.94126)  </td><td>PUGET SOUND ENERGY INC                       </td><td>53067012532</td></tr>\n",
       "</tbody>\n",
       "</table>\n"
      ],
      "text/latex": [
       "A data.frame: 6 × 17\n",
       "\\begin{tabular}{r|lllllllllllllllll}\n",
       "  & VIN..1.10. & County & City & State & Postal.Code & Model.Year & Make & Model & Electric.Vehicle.Type & Clean.Alternative.Fuel.Vehicle.Eligibility & Electric.Range & Base.MSRP & Legislative.District & DOL.Vehicle.ID & Vehicle.Location & Electric.Utility & X2020.Census.Tract\\\\\n",
       "  & <chr> & <chr> & <chr> & <chr> & <int> & <int> & <chr> & <chr> & <chr> & <chr> & <int> & <int> & <int> & <int> & <chr> & <chr> & <dbl>\\\\\n",
       "\\hline\n",
       "\t1 & 5YJYGDEE1L & King      & Seattle   & WA & 98122 & 2020 & TESLA & MODEL Y & Battery Electric Vehicle (BEV)         & Clean Alternative Fuel Vehicle Eligible                      & 291 & 0 & 37 & 125701579 & POINT (-122.30839 47.610365)  & CITY OF SEATTLE - (WA)\\textbar{}CITY OF TACOMA - (WA)  & 53033007800\\\\\n",
       "\t2 & 7SAYGDEE9P & Snohomish & Bothell   & WA & 98021 & 2023 & TESLA & MODEL Y & Battery Electric Vehicle (BEV)         & Eligibility unknown as battery range has not been researched &   0 & 0 &  1 & 244285107 & POINT (-122.179458 47.802589) & PUGET SOUND ENERGY INC                        & 53061051938\\\\\n",
       "\t3 & 5YJSA1E4XK & King      & Seattle   & WA & 98109 & 2019 & TESLA & MODEL S & Battery Electric Vehicle (BEV)         & Clean Alternative Fuel Vehicle Eligible                      & 270 & 0 & 36 & 156773144 & POINT (-122.34848 47.632405)  & CITY OF SEATTLE - (WA)\\textbar{}CITY OF TACOMA - (WA)  & 53033006800\\\\\n",
       "\t4 & 5YJSA1E27G & King      & Issaquah  & WA & 98027 & 2016 & TESLA & MODEL S & Battery Electric Vehicle (BEV)         & Clean Alternative Fuel Vehicle Eligible                      & 210 & 0 &  5 & 165103011 & POINT (-122.03646 47.534065)  & PUGET SOUND ENERGY INC\\textbar{}\\textbar{}CITY OF TACOMA - (WA) & 53033032104\\\\\n",
       "\t5 & 5YJYGDEE5M & Kitsap    & Suquamish & WA & 98392 & 2021 & TESLA & MODEL Y & Battery Electric Vehicle (BEV)         & Eligibility unknown as battery range has not been researched &   0 & 0 & 23 & 205138552 & POINT (-122.55717 47.733415)  & PUGET SOUND ENERGY INC                        & 53035940100\\\\\n",
       "\t6 & 3FA6P0SU8H & Thurston  & Yelm      & WA & 98597 & 2017 & FORD  & FUSION  & Plug-in Hybrid Electric Vehicle (PHEV) & Not eligible due to low battery range                        &  21 & 0 &  2 & 122057736 & POINT (-122.61023 46.94126)   & PUGET SOUND ENERGY INC                        & 53067012532\\\\\n",
       "\\end{tabular}\n"
      ],
      "text/markdown": [
       "\n",
       "A data.frame: 6 × 17\n",
       "\n",
       "| <!--/--> | VIN..1.10. &lt;chr&gt; | County &lt;chr&gt; | City &lt;chr&gt; | State &lt;chr&gt; | Postal.Code &lt;int&gt; | Model.Year &lt;int&gt; | Make &lt;chr&gt; | Model &lt;chr&gt; | Electric.Vehicle.Type &lt;chr&gt; | Clean.Alternative.Fuel.Vehicle.Eligibility &lt;chr&gt; | Electric.Range &lt;int&gt; | Base.MSRP &lt;int&gt; | Legislative.District &lt;int&gt; | DOL.Vehicle.ID &lt;int&gt; | Vehicle.Location &lt;chr&gt; | Electric.Utility &lt;chr&gt; | X2020.Census.Tract &lt;dbl&gt; |\n",
       "|---|---|---|---|---|---|---|---|---|---|---|---|---|---|---|---|---|---|\n",
       "| 1 | 5YJYGDEE1L | King      | Seattle   | WA | 98122 | 2020 | TESLA | MODEL Y | Battery Electric Vehicle (BEV)         | Clean Alternative Fuel Vehicle Eligible                      | 291 | 0 | 37 | 125701579 | POINT (-122.30839 47.610365)  | CITY OF SEATTLE - (WA)|CITY OF TACOMA - (WA)  | 53033007800 |\n",
       "| 2 | 7SAYGDEE9P | Snohomish | Bothell   | WA | 98021 | 2023 | TESLA | MODEL Y | Battery Electric Vehicle (BEV)         | Eligibility unknown as battery range has not been researched |   0 | 0 |  1 | 244285107 | POINT (-122.179458 47.802589) | PUGET SOUND ENERGY INC                        | 53061051938 |\n",
       "| 3 | 5YJSA1E4XK | King      | Seattle   | WA | 98109 | 2019 | TESLA | MODEL S | Battery Electric Vehicle (BEV)         | Clean Alternative Fuel Vehicle Eligible                      | 270 | 0 | 36 | 156773144 | POINT (-122.34848 47.632405)  | CITY OF SEATTLE - (WA)|CITY OF TACOMA - (WA)  | 53033006800 |\n",
       "| 4 | 5YJSA1E27G | King      | Issaquah  | WA | 98027 | 2016 | TESLA | MODEL S | Battery Electric Vehicle (BEV)         | Clean Alternative Fuel Vehicle Eligible                      | 210 | 0 |  5 | 165103011 | POINT (-122.03646 47.534065)  | PUGET SOUND ENERGY INC||CITY OF TACOMA - (WA) | 53033032104 |\n",
       "| 5 | 5YJYGDEE5M | Kitsap    | Suquamish | WA | 98392 | 2021 | TESLA | MODEL Y | Battery Electric Vehicle (BEV)         | Eligibility unknown as battery range has not been researched |   0 | 0 | 23 | 205138552 | POINT (-122.55717 47.733415)  | PUGET SOUND ENERGY INC                        | 53035940100 |\n",
       "| 6 | 3FA6P0SU8H | Thurston  | Yelm      | WA | 98597 | 2017 | FORD  | FUSION  | Plug-in Hybrid Electric Vehicle (PHEV) | Not eligible due to low battery range                        |  21 | 0 |  2 | 122057736 | POINT (-122.61023 46.94126)   | PUGET SOUND ENERGY INC                        | 53067012532 |\n",
       "\n"
      ],
      "text/plain": [
       "  VIN..1.10. County    City      State Postal.Code Model.Year Make  Model  \n",
       "1 5YJYGDEE1L King      Seattle   WA    98122       2020       TESLA MODEL Y\n",
       "2 7SAYGDEE9P Snohomish Bothell   WA    98021       2023       TESLA MODEL Y\n",
       "3 5YJSA1E4XK King      Seattle   WA    98109       2019       TESLA MODEL S\n",
       "4 5YJSA1E27G King      Issaquah  WA    98027       2016       TESLA MODEL S\n",
       "5 5YJYGDEE5M Kitsap    Suquamish WA    98392       2021       TESLA MODEL Y\n",
       "6 3FA6P0SU8H Thurston  Yelm      WA    98597       2017       FORD  FUSION \n",
       "  Electric.Vehicle.Type                 \n",
       "1 Battery Electric Vehicle (BEV)        \n",
       "2 Battery Electric Vehicle (BEV)        \n",
       "3 Battery Electric Vehicle (BEV)        \n",
       "4 Battery Electric Vehicle (BEV)        \n",
       "5 Battery Electric Vehicle (BEV)        \n",
       "6 Plug-in Hybrid Electric Vehicle (PHEV)\n",
       "  Clean.Alternative.Fuel.Vehicle.Eligibility                   Electric.Range\n",
       "1 Clean Alternative Fuel Vehicle Eligible                      291           \n",
       "2 Eligibility unknown as battery range has not been researched   0           \n",
       "3 Clean Alternative Fuel Vehicle Eligible                      270           \n",
       "4 Clean Alternative Fuel Vehicle Eligible                      210           \n",
       "5 Eligibility unknown as battery range has not been researched   0           \n",
       "6 Not eligible due to low battery range                         21           \n",
       "  Base.MSRP Legislative.District DOL.Vehicle.ID Vehicle.Location             \n",
       "1 0         37                   125701579      POINT (-122.30839 47.610365) \n",
       "2 0          1                   244285107      POINT (-122.179458 47.802589)\n",
       "3 0         36                   156773144      POINT (-122.34848 47.632405) \n",
       "4 0          5                   165103011      POINT (-122.03646 47.534065) \n",
       "5 0         23                   205138552      POINT (-122.55717 47.733415) \n",
       "6 0          2                   122057736      POINT (-122.61023 46.94126)  \n",
       "  Electric.Utility                              X2020.Census.Tract\n",
       "1 CITY OF SEATTLE - (WA)|CITY OF TACOMA - (WA)  53033007800       \n",
       "2 PUGET SOUND ENERGY INC                        53061051938       \n",
       "3 CITY OF SEATTLE - (WA)|CITY OF TACOMA - (WA)  53033006800       \n",
       "4 PUGET SOUND ENERGY INC||CITY OF TACOMA - (WA) 53033032104       \n",
       "5 PUGET SOUND ENERGY INC                        53035940100       \n",
       "6 PUGET SOUND ENERGY INC                        53067012532       "
      ]
     },
     "metadata": {},
     "output_type": "display_data"
    }
   ],
   "source": [
    "# Display the first few rows of the dataset\n",
    "head(Electric_vehicles)"
   ]
  },
  {
   "cell_type": "code",
   "execution_count": 5,
   "metadata": {
    "vscode": {
     "languageId": "r"
    }
   },
   "outputs": [
    {
     "data": {
      "text/html": [
       "<table class=\"dataframe\">\n",
       "<caption>A data.frame: 6 × 17</caption>\n",
       "<thead>\n",
       "\t<tr><th></th><th scope=col>VIN..1.10.</th><th scope=col>County</th><th scope=col>City</th><th scope=col>State</th><th scope=col>Postal.Code</th><th scope=col>Model.Year</th><th scope=col>Make</th><th scope=col>Model</th><th scope=col>Electric.Vehicle.Type</th><th scope=col>Clean.Alternative.Fuel.Vehicle.Eligibility</th><th scope=col>Electric.Range</th><th scope=col>Base.MSRP</th><th scope=col>Legislative.District</th><th scope=col>DOL.Vehicle.ID</th><th scope=col>Vehicle.Location</th><th scope=col>Electric.Utility</th><th scope=col>X2020.Census.Tract</th></tr>\n",
       "\t<tr><th></th><th scope=col>&lt;chr&gt;</th><th scope=col>&lt;chr&gt;</th><th scope=col>&lt;chr&gt;</th><th scope=col>&lt;chr&gt;</th><th scope=col>&lt;int&gt;</th><th scope=col>&lt;int&gt;</th><th scope=col>&lt;chr&gt;</th><th scope=col>&lt;chr&gt;</th><th scope=col>&lt;chr&gt;</th><th scope=col>&lt;chr&gt;</th><th scope=col>&lt;int&gt;</th><th scope=col>&lt;int&gt;</th><th scope=col>&lt;int&gt;</th><th scope=col>&lt;int&gt;</th><th scope=col>&lt;chr&gt;</th><th scope=col>&lt;chr&gt;</th><th scope=col>&lt;dbl&gt;</th></tr>\n",
       "</thead>\n",
       "<tbody>\n",
       "\t<tr><th scope=row>177861</th><td>1G1FX6S00J</td><td>Clallam</td><td>Sequim       </td><td>WA</td><td>98382</td><td>2018</td><td>CHEVROLET </td><td>BOLT EV      </td><td>Battery Electric Vehicle (BEV)</td><td>Clean Alternative Fuel Vehicle Eligible                     </td><td>238</td><td>0</td><td>24</td><td>347972607</td><td>POINT (-123.105015 48.08125)   </td><td>BONNEVILLE POWER ADMINISTRATION||PUD NO 1 OF CLALLAM COUNTY                     </td><td>53009001800</td></tr>\n",
       "\t<tr><th scope=row>177862</th><td>7SAYGDEE3N</td><td>Pierce </td><td>Bonney Lake  </td><td>WA</td><td>98391</td><td>2022</td><td>TESLA     </td><td>MODEL Y      </td><td>Battery Electric Vehicle (BEV)</td><td>Eligibility unknown as battery range has not been researched</td><td>  0</td><td>0</td><td>31</td><td>195224452</td><td>POINT (-122.183805 47.18062)   </td><td>PUGET SOUND ENERGY INC||CITY OF TACOMA - (WA)                                   </td><td>53053070308</td></tr>\n",
       "\t<tr><th scope=row>177863</th><td>KM8K23AG1P</td><td>Mason  </td><td>Shelton      </td><td>WA</td><td>98584</td><td>2023</td><td>HYUNDAI   </td><td>KONA ELECTRIC</td><td>Battery Electric Vehicle (BEV)</td><td>Eligibility unknown as battery range has not been researched</td><td>  0</td><td>0</td><td>35</td><td>228454180</td><td>POINT (-123.105305 47.211085)  </td><td>BONNEVILLE POWER ADMINISTRATION||CITY OF TACOMA - (WA)||PUD NO 3 OF MASON COUNTY</td><td>53045960900</td></tr>\n",
       "\t<tr><th scope=row>177864</th><td>5YJYGDEE6M</td><td>Grant  </td><td>Quincy       </td><td>WA</td><td>98848</td><td>2021</td><td>TESLA     </td><td>MODEL Y      </td><td>Battery Electric Vehicle (BEV)</td><td>Eligibility unknown as battery range has not been researched</td><td>  0</td><td>0</td><td>13</td><td>168797219</td><td>POINT (-119.8493873 47.2339933)</td><td>PUD NO 2 OF GRANT COUNTY                                                        </td><td>53025010500</td></tr>\n",
       "\t<tr><th scope=row>177865</th><td>WVGKMPE27M</td><td>King   </td><td>Black Diamond</td><td>WA</td><td>98010</td><td>2021</td><td>VOLKSWAGEN</td><td>ID.4         </td><td>Battery Electric Vehicle (BEV)</td><td>Eligibility unknown as battery range has not been researched</td><td>  0</td><td>0</td><td> 5</td><td>182448801</td><td>POINT (-122.00451 47.312185)   </td><td>PUGET SOUND ENERGY INC||CITY OF TACOMA - (WA)                                   </td><td>53033031603</td></tr>\n",
       "\t<tr><th scope=row>177866</th><td>5YJ3E1EA8M</td><td>Pierce </td><td>Tacoma       </td><td>WA</td><td>98422</td><td>2021</td><td>TESLA     </td><td>MODEL 3      </td><td>Battery Electric Vehicle (BEV)</td><td>Eligibility unknown as battery range has not been researched</td><td>  0</td><td>0</td><td>27</td><td>211464683</td><td>POINT (-122.38578 47.28971)    </td><td>BONNEVILLE POWER ADMINISTRATION||CITY OF TACOMA - (WA)||PENINSULA LIGHT COMPANY </td><td>53053940005</td></tr>\n",
       "</tbody>\n",
       "</table>\n"
      ],
      "text/latex": [
       "A data.frame: 6 × 17\n",
       "\\begin{tabular}{r|lllllllllllllllll}\n",
       "  & VIN..1.10. & County & City & State & Postal.Code & Model.Year & Make & Model & Electric.Vehicle.Type & Clean.Alternative.Fuel.Vehicle.Eligibility & Electric.Range & Base.MSRP & Legislative.District & DOL.Vehicle.ID & Vehicle.Location & Electric.Utility & X2020.Census.Tract\\\\\n",
       "  & <chr> & <chr> & <chr> & <chr> & <int> & <int> & <chr> & <chr> & <chr> & <chr> & <int> & <int> & <int> & <int> & <chr> & <chr> & <dbl>\\\\\n",
       "\\hline\n",
       "\t177861 & 1G1FX6S00J & Clallam & Sequim        & WA & 98382 & 2018 & CHEVROLET  & BOLT EV       & Battery Electric Vehicle (BEV) & Clean Alternative Fuel Vehicle Eligible                      & 238 & 0 & 24 & 347972607 & POINT (-123.105015 48.08125)    & BONNEVILLE POWER ADMINISTRATION\\textbar{}\\textbar{}PUD NO 1 OF CLALLAM COUNTY                      & 53009001800\\\\\n",
       "\t177862 & 7SAYGDEE3N & Pierce  & Bonney Lake   & WA & 98391 & 2022 & TESLA      & MODEL Y       & Battery Electric Vehicle (BEV) & Eligibility unknown as battery range has not been researched &   0 & 0 & 31 & 195224452 & POINT (-122.183805 47.18062)    & PUGET SOUND ENERGY INC\\textbar{}\\textbar{}CITY OF TACOMA - (WA)                                    & 53053070308\\\\\n",
       "\t177863 & KM8K23AG1P & Mason   & Shelton       & WA & 98584 & 2023 & HYUNDAI    & KONA ELECTRIC & Battery Electric Vehicle (BEV) & Eligibility unknown as battery range has not been researched &   0 & 0 & 35 & 228454180 & POINT (-123.105305 47.211085)   & BONNEVILLE POWER ADMINISTRATION\\textbar{}\\textbar{}CITY OF TACOMA - (WA)\\textbar{}\\textbar{}PUD NO 3 OF MASON COUNTY & 53045960900\\\\\n",
       "\t177864 & 5YJYGDEE6M & Grant   & Quincy        & WA & 98848 & 2021 & TESLA      & MODEL Y       & Battery Electric Vehicle (BEV) & Eligibility unknown as battery range has not been researched &   0 & 0 & 13 & 168797219 & POINT (-119.8493873 47.2339933) & PUD NO 2 OF GRANT COUNTY                                                         & 53025010500\\\\\n",
       "\t177865 & WVGKMPE27M & King    & Black Diamond & WA & 98010 & 2021 & VOLKSWAGEN & ID.4          & Battery Electric Vehicle (BEV) & Eligibility unknown as battery range has not been researched &   0 & 0 &  5 & 182448801 & POINT (-122.00451 47.312185)    & PUGET SOUND ENERGY INC\\textbar{}\\textbar{}CITY OF TACOMA - (WA)                                    & 53033031603\\\\\n",
       "\t177866 & 5YJ3E1EA8M & Pierce  & Tacoma        & WA & 98422 & 2021 & TESLA      & MODEL 3       & Battery Electric Vehicle (BEV) & Eligibility unknown as battery range has not been researched &   0 & 0 & 27 & 211464683 & POINT (-122.38578 47.28971)     & BONNEVILLE POWER ADMINISTRATION\\textbar{}\\textbar{}CITY OF TACOMA - (WA)\\textbar{}\\textbar{}PENINSULA LIGHT COMPANY  & 53053940005\\\\\n",
       "\\end{tabular}\n"
      ],
      "text/markdown": [
       "\n",
       "A data.frame: 6 × 17\n",
       "\n",
       "| <!--/--> | VIN..1.10. &lt;chr&gt; | County &lt;chr&gt; | City &lt;chr&gt; | State &lt;chr&gt; | Postal.Code &lt;int&gt; | Model.Year &lt;int&gt; | Make &lt;chr&gt; | Model &lt;chr&gt; | Electric.Vehicle.Type &lt;chr&gt; | Clean.Alternative.Fuel.Vehicle.Eligibility &lt;chr&gt; | Electric.Range &lt;int&gt; | Base.MSRP &lt;int&gt; | Legislative.District &lt;int&gt; | DOL.Vehicle.ID &lt;int&gt; | Vehicle.Location &lt;chr&gt; | Electric.Utility &lt;chr&gt; | X2020.Census.Tract &lt;dbl&gt; |\n",
       "|---|---|---|---|---|---|---|---|---|---|---|---|---|---|---|---|---|---|\n",
       "| 177861 | 1G1FX6S00J | Clallam | Sequim        | WA | 98382 | 2018 | CHEVROLET  | BOLT EV       | Battery Electric Vehicle (BEV) | Clean Alternative Fuel Vehicle Eligible                      | 238 | 0 | 24 | 347972607 | POINT (-123.105015 48.08125)    | BONNEVILLE POWER ADMINISTRATION||PUD NO 1 OF CLALLAM COUNTY                      | 53009001800 |\n",
       "| 177862 | 7SAYGDEE3N | Pierce  | Bonney Lake   | WA | 98391 | 2022 | TESLA      | MODEL Y       | Battery Electric Vehicle (BEV) | Eligibility unknown as battery range has not been researched |   0 | 0 | 31 | 195224452 | POINT (-122.183805 47.18062)    | PUGET SOUND ENERGY INC||CITY OF TACOMA - (WA)                                    | 53053070308 |\n",
       "| 177863 | KM8K23AG1P | Mason   | Shelton       | WA | 98584 | 2023 | HYUNDAI    | KONA ELECTRIC | Battery Electric Vehicle (BEV) | Eligibility unknown as battery range has not been researched |   0 | 0 | 35 | 228454180 | POINT (-123.105305 47.211085)   | BONNEVILLE POWER ADMINISTRATION||CITY OF TACOMA - (WA)||PUD NO 3 OF MASON COUNTY | 53045960900 |\n",
       "| 177864 | 5YJYGDEE6M | Grant   | Quincy        | WA | 98848 | 2021 | TESLA      | MODEL Y       | Battery Electric Vehicle (BEV) | Eligibility unknown as battery range has not been researched |   0 | 0 | 13 | 168797219 | POINT (-119.8493873 47.2339933) | PUD NO 2 OF GRANT COUNTY                                                         | 53025010500 |\n",
       "| 177865 | WVGKMPE27M | King    | Black Diamond | WA | 98010 | 2021 | VOLKSWAGEN | ID.4          | Battery Electric Vehicle (BEV) | Eligibility unknown as battery range has not been researched |   0 | 0 |  5 | 182448801 | POINT (-122.00451 47.312185)    | PUGET SOUND ENERGY INC||CITY OF TACOMA - (WA)                                    | 53033031603 |\n",
       "| 177866 | 5YJ3E1EA8M | Pierce  | Tacoma        | WA | 98422 | 2021 | TESLA      | MODEL 3       | Battery Electric Vehicle (BEV) | Eligibility unknown as battery range has not been researched |   0 | 0 | 27 | 211464683 | POINT (-122.38578 47.28971)     | BONNEVILLE POWER ADMINISTRATION||CITY OF TACOMA - (WA)||PENINSULA LIGHT COMPANY  | 53053940005 |\n",
       "\n"
      ],
      "text/plain": [
       "       VIN..1.10. County  City          State Postal.Code Model.Year Make      \n",
       "177861 1G1FX6S00J Clallam Sequim        WA    98382       2018       CHEVROLET \n",
       "177862 7SAYGDEE3N Pierce  Bonney Lake   WA    98391       2022       TESLA     \n",
       "177863 KM8K23AG1P Mason   Shelton       WA    98584       2023       HYUNDAI   \n",
       "177864 5YJYGDEE6M Grant   Quincy        WA    98848       2021       TESLA     \n",
       "177865 WVGKMPE27M King    Black Diamond WA    98010       2021       VOLKSWAGEN\n",
       "177866 5YJ3E1EA8M Pierce  Tacoma        WA    98422       2021       TESLA     \n",
       "       Model         Electric.Vehicle.Type         \n",
       "177861 BOLT EV       Battery Electric Vehicle (BEV)\n",
       "177862 MODEL Y       Battery Electric Vehicle (BEV)\n",
       "177863 KONA ELECTRIC Battery Electric Vehicle (BEV)\n",
       "177864 MODEL Y       Battery Electric Vehicle (BEV)\n",
       "177865 ID.4          Battery Electric Vehicle (BEV)\n",
       "177866 MODEL 3       Battery Electric Vehicle (BEV)\n",
       "       Clean.Alternative.Fuel.Vehicle.Eligibility                  \n",
       "177861 Clean Alternative Fuel Vehicle Eligible                     \n",
       "177862 Eligibility unknown as battery range has not been researched\n",
       "177863 Eligibility unknown as battery range has not been researched\n",
       "177864 Eligibility unknown as battery range has not been researched\n",
       "177865 Eligibility unknown as battery range has not been researched\n",
       "177866 Eligibility unknown as battery range has not been researched\n",
       "       Electric.Range Base.MSRP Legislative.District DOL.Vehicle.ID\n",
       "177861 238            0         24                   347972607     \n",
       "177862   0            0         31                   195224452     \n",
       "177863   0            0         35                   228454180     \n",
       "177864   0            0         13                   168797219     \n",
       "177865   0            0          5                   182448801     \n",
       "177866   0            0         27                   211464683     \n",
       "       Vehicle.Location               \n",
       "177861 POINT (-123.105015 48.08125)   \n",
       "177862 POINT (-122.183805 47.18062)   \n",
       "177863 POINT (-123.105305 47.211085)  \n",
       "177864 POINT (-119.8493873 47.2339933)\n",
       "177865 POINT (-122.00451 47.312185)   \n",
       "177866 POINT (-122.38578 47.28971)    \n",
       "       Electric.Utility                                                                \n",
       "177861 BONNEVILLE POWER ADMINISTRATION||PUD NO 1 OF CLALLAM COUNTY                     \n",
       "177862 PUGET SOUND ENERGY INC||CITY OF TACOMA - (WA)                                   \n",
       "177863 BONNEVILLE POWER ADMINISTRATION||CITY OF TACOMA - (WA)||PUD NO 3 OF MASON COUNTY\n",
       "177864 PUD NO 2 OF GRANT COUNTY                                                        \n",
       "177865 PUGET SOUND ENERGY INC||CITY OF TACOMA - (WA)                                   \n",
       "177866 BONNEVILLE POWER ADMINISTRATION||CITY OF TACOMA - (WA)||PENINSULA LIGHT COMPANY \n",
       "       X2020.Census.Tract\n",
       "177861 53009001800       \n",
       "177862 53053070308       \n",
       "177863 53045960900       \n",
       "177864 53025010500       \n",
       "177865 53033031603       \n",
       "177866 53053940005       "
      ]
     },
     "metadata": {},
     "output_type": "display_data"
    }
   ],
   "source": [
    "# Display the last few rows of the dataset\n",
    "tail(Electric_vehicles)"
   ]
  },
  {
   "cell_type": "code",
   "execution_count": 6,
   "metadata": {
    "vscode": {
     "languageId": "r"
    }
   },
   "outputs": [
    {
     "name": "stdout",
     "output_type": "stream",
     "text": [
      "'data.frame':\t177866 obs. of  17 variables:\n",
      " $ VIN..1.10.                                : chr  \"5YJYGDEE1L\" \"7SAYGDEE9P\" \"5YJSA1E4XK\" \"5YJSA1E27G\" ...\n",
      " $ County                                    : chr  \"King\" \"Snohomish\" \"King\" \"King\" ...\n",
      " $ City                                      : chr  \"Seattle\" \"Bothell\" \"Seattle\" \"Issaquah\" ...\n",
      " $ State                                     : chr  \"WA\" \"WA\" \"WA\" \"WA\" ...\n",
      " $ Postal.Code                               : int  98122 98021 98109 98027 98392 98597 98903 98012 98366 98001 ...\n",
      " $ Model.Year                                : int  2020 2023 2019 2016 2021 2017 2013 2018 2015 2022 ...\n",
      " $ Make                                      : chr  \"TESLA\" \"TESLA\" \"TESLA\" \"TESLA\" ...\n",
      " $ Model                                     : chr  \"MODEL Y\" \"MODEL Y\" \"MODEL S\" \"MODEL S\" ...\n",
      " $ Electric.Vehicle.Type                     : chr  \"Battery Electric Vehicle (BEV)\" \"Battery Electric Vehicle (BEV)\" \"Battery Electric Vehicle (BEV)\" \"Battery Electric Vehicle (BEV)\" ...\n",
      " $ Clean.Alternative.Fuel.Vehicle.Eligibility: chr  \"Clean Alternative Fuel Vehicle Eligible\" \"Eligibility unknown as battery range has not been researched\" \"Clean Alternative Fuel Vehicle Eligible\" \"Clean Alternative Fuel Vehicle Eligible\" ...\n",
      " $ Electric.Range                            : int  291 0 270 210 0 21 75 29 84 30 ...\n",
      " $ Base.MSRP                                 : int  0 0 0 0 0 0 0 0 0 0 ...\n",
      " $ Legislative.District                      : int  37 1 36 5 23 2 14 1 26 47 ...\n",
      " $ DOL.Vehicle.ID                            : int  125701579 244285107 156773144 165103011 205138552 122057736 150126840 290605598 137322111 240226332 ...\n",
      " $ Vehicle.Location                          : chr  \"POINT (-122.30839 47.610365)\" \"POINT (-122.179458 47.802589)\" \"POINT (-122.34848 47.632405)\" \"POINT (-122.03646 47.534065)\" ...\n",
      " $ Electric.Utility                          : chr  \"CITY OF SEATTLE - (WA)|CITY OF TACOMA - (WA)\" \"PUGET SOUND ENERGY INC\" \"CITY OF SEATTLE - (WA)|CITY OF TACOMA - (WA)\" \"PUGET SOUND ENERGY INC||CITY OF TACOMA - (WA)\" ...\n",
      " $ X2020.Census.Tract                        : num  5.30e+10 5.31e+10 5.30e+10 5.30e+10 5.30e+10 ...\n"
     ]
    }
   ],
   "source": [
    "#Display the structure of the dataset\n",
    "str(Electric_vehicles)"
   ]
  },
  {
   "cell_type": "code",
   "execution_count": 7,
   "metadata": {
    "vscode": {
     "languageId": "r"
    }
   },
   "outputs": [
    {
     "data": {
      "text/html": [
       "177866"
      ],
      "text/latex": [
       "177866"
      ],
      "text/markdown": [
       "177866"
      ],
      "text/plain": [
       "[1] 177866"
      ]
     },
     "metadata": {},
     "output_type": "display_data"
    }
   ],
   "source": [
    "#Check for the number of rows\n",
    "nrow(Electric_vehicles)"
   ]
  },
  {
   "cell_type": "code",
   "execution_count": 8,
   "metadata": {
    "vscode": {
     "languageId": "r"
    }
   },
   "outputs": [
    {
     "data": {
      "text/html": [
       "17"
      ],
      "text/latex": [
       "17"
      ],
      "text/markdown": [
       "17"
      ],
      "text/plain": [
       "[1] 17"
      ]
     },
     "metadata": {},
     "output_type": "display_data"
    }
   ],
   "source": [
    "#Check for the number of columns\n",
    "ncol(Electric_vehicles)"
   ]
  },
  {
   "cell_type": "code",
   "execution_count": 9,
   "metadata": {
    "vscode": {
     "languageId": "r"
    }
   },
   "outputs": [
    {
     "data": {
      "text/html": [
       "<style>\n",
       ".list-inline {list-style: none; margin:0; padding: 0}\n",
       ".list-inline>li {display: inline-block}\n",
       ".list-inline>li:not(:last-child)::after {content: \"\\00b7\"; padding: 0 .5ex}\n",
       "</style>\n",
       "<ol class=list-inline><li>'VIN..1.10.'</li><li>'County'</li><li>'City'</li><li>'State'</li><li>'Postal.Code'</li><li>'Model.Year'</li><li>'Make'</li><li>'Model'</li><li>'Electric.Vehicle.Type'</li><li>'Clean.Alternative.Fuel.Vehicle.Eligibility'</li><li>'Electric.Range'</li><li>'Base.MSRP'</li><li>'Legislative.District'</li><li>'DOL.Vehicle.ID'</li><li>'Vehicle.Location'</li><li>'Electric.Utility'</li><li>'X2020.Census.Tract'</li></ol>\n"
      ],
      "text/latex": [
       "\\begin{enumerate*}\n",
       "\\item 'VIN..1.10.'\n",
       "\\item 'County'\n",
       "\\item 'City'\n",
       "\\item 'State'\n",
       "\\item 'Postal.Code'\n",
       "\\item 'Model.Year'\n",
       "\\item 'Make'\n",
       "\\item 'Model'\n",
       "\\item 'Electric.Vehicle.Type'\n",
       "\\item 'Clean.Alternative.Fuel.Vehicle.Eligibility'\n",
       "\\item 'Electric.Range'\n",
       "\\item 'Base.MSRP'\n",
       "\\item 'Legislative.District'\n",
       "\\item 'DOL.Vehicle.ID'\n",
       "\\item 'Vehicle.Location'\n",
       "\\item 'Electric.Utility'\n",
       "\\item 'X2020.Census.Tract'\n",
       "\\end{enumerate*}\n"
      ],
      "text/markdown": [
       "1. 'VIN..1.10.'\n",
       "2. 'County'\n",
       "3. 'City'\n",
       "4. 'State'\n",
       "5. 'Postal.Code'\n",
       "6. 'Model.Year'\n",
       "7. 'Make'\n",
       "8. 'Model'\n",
       "9. 'Electric.Vehicle.Type'\n",
       "10. 'Clean.Alternative.Fuel.Vehicle.Eligibility'\n",
       "11. 'Electric.Range'\n",
       "12. 'Base.MSRP'\n",
       "13. 'Legislative.District'\n",
       "14. 'DOL.Vehicle.ID'\n",
       "15. 'Vehicle.Location'\n",
       "16. 'Electric.Utility'\n",
       "17. 'X2020.Census.Tract'\n",
       "\n",
       "\n"
      ],
      "text/plain": [
       " [1] \"VIN..1.10.\"                                \n",
       " [2] \"County\"                                    \n",
       " [3] \"City\"                                      \n",
       " [4] \"State\"                                     \n",
       " [5] \"Postal.Code\"                               \n",
       " [6] \"Model.Year\"                                \n",
       " [7] \"Make\"                                      \n",
       " [8] \"Model\"                                     \n",
       " [9] \"Electric.Vehicle.Type\"                     \n",
       "[10] \"Clean.Alternative.Fuel.Vehicle.Eligibility\"\n",
       "[11] \"Electric.Range\"                            \n",
       "[12] \"Base.MSRP\"                                 \n",
       "[13] \"Legislative.District\"                      \n",
       "[14] \"DOL.Vehicle.ID\"                            \n",
       "[15] \"Vehicle.Location\"                          \n",
       "[16] \"Electric.Utility\"                          \n",
       "[17] \"X2020.Census.Tract\"                        "
      ]
     },
     "metadata": {},
     "output_type": "display_data"
    }
   ],
   "source": [
    "#Check for the names of columns\n",
    "names(Electric_vehicles)"
   ]
  },
  {
   "cell_type": "code",
   "execution_count": 10,
   "metadata": {
    "vscode": {
     "languageId": "r"
    }
   },
   "outputs": [
    {
     "data": {
      "text/plain": [
       "  VIN..1.10.           County              City              State          \n",
       " Length:177866      Length:177866      Length:177866      Length:177866     \n",
       " Class :character   Class :character   Class :character   Class :character  \n",
       " Mode  :character   Mode  :character   Mode  :character   Mode  :character  \n",
       "                                                                            \n",
       "                                                                            \n",
       "                                                                            \n",
       "                                                                            \n",
       "  Postal.Code      Model.Year       Make              Model          \n",
       " Min.   : 1545   Min.   :1997   Length:177866      Length:177866     \n",
       " 1st Qu.:98052   1st Qu.:2019   Class :character   Class :character  \n",
       " Median :98122   Median :2022   Mode  :character   Mode  :character  \n",
       " Mean   :98172   Mean   :2021                                        \n",
       " 3rd Qu.:98370   3rd Qu.:2023                                        \n",
       " Max.   :99577   Max.   :2024                                        \n",
       " NA's   :5                                                           \n",
       " Electric.Vehicle.Type Clean.Alternative.Fuel.Vehicle.Eligibility\n",
       " Length:177866         Length:177866                             \n",
       " Class :character      Class :character                          \n",
       " Mode  :character      Mode  :character                          \n",
       "                                                                 \n",
       "                                                                 \n",
       "                                                                 \n",
       "                                                                 \n",
       " Electric.Range     Base.MSRP      Legislative.District DOL.Vehicle.ID     \n",
       " Min.   :  0.00   Min.   :     0   Min.   : 1.00        Min.   :     4385  \n",
       " 1st Qu.:  0.00   1st Qu.:     0   1st Qu.:18.00        1st Qu.:181474348  \n",
       " Median :  0.00   Median :     0   Median :33.00        Median :228252237  \n",
       " Mean   : 58.84   Mean   :  1073   Mean   :29.13        Mean   :220231266  \n",
       " 3rd Qu.: 75.00   3rd Qu.:     0   3rd Qu.:42.00        3rd Qu.:254844512  \n",
       " Max.   :337.00   Max.   :845000   Max.   :49.00        Max.   :479254772  \n",
       "                                   NA's   :389                             \n",
       " Vehicle.Location   Electric.Utility   X2020.Census.Tract \n",
       " Length:177866      Length:177866      Min.   :1.001e+09  \n",
       " Class :character   Class :character   1st Qu.:5.303e+10  \n",
       " Mode  :character   Mode  :character   Median :5.303e+10  \n",
       "                                       Mean   :5.298e+10  \n",
       "                                       3rd Qu.:5.305e+10  \n",
       "                                       Max.   :5.603e+10  \n",
       "                                       NA's   :5          "
      ]
     },
     "metadata": {},
     "output_type": "display_data"
    }
   ],
   "source": [
    "# Display descriptive statistics\n",
    "summary(Electric_vehicles)"
   ]
  },
  {
   "cell_type": "markdown",
   "metadata": {},
   "source": [
    "### DATA PRE-PROCESSING"
   ]
  },
  {
   "cell_type": "code",
   "execution_count": 11,
   "metadata": {
    "vscode": {
     "languageId": "r"
    }
   },
   "outputs": [
    {
     "data": {
      "text/html": [
       "399"
      ],
      "text/latex": [
       "399"
      ],
      "text/markdown": [
       "399"
      ],
      "text/plain": [
       "[1] 399"
      ]
     },
     "metadata": {},
     "output_type": "display_data"
    }
   ],
   "source": [
    "#Check for total number of missing values\n",
    "sum(colSums(is.na(Electric_vehicles)))"
   ]
  },
  {
   "cell_type": "code",
   "execution_count": 12,
   "metadata": {
    "vscode": {
     "languageId": "r"
    }
   },
   "outputs": [],
   "source": [
    "# Remove rows with any missing values\n",
    "Electric_vehicles_clean <- na.omit(Electric_vehicles)\n"
   ]
  },
  {
   "cell_type": "code",
   "execution_count": 13,
   "metadata": {
    "vscode": {
     "languageId": "r"
    }
   },
   "outputs": [
    {
     "data": {
      "text/html": [
       "0"
      ],
      "text/latex": [
       "0"
      ],
      "text/markdown": [
       "0"
      ],
      "text/plain": [
       "[1] 0"
      ]
     },
     "metadata": {},
     "output_type": "display_data"
    }
   ],
   "source": [
    "#Check for total number of missing values\n",
    "sum(colSums(is.na(Electric_vehicles_clean)))"
   ]
  },
  {
   "cell_type": "code",
   "execution_count": 14,
   "metadata": {
    "vscode": {
     "languageId": "r"
    }
   },
   "outputs": [],
   "source": [
    "# Encoding using 'factor' function\n",
    "Electric_vehicles_clean$County <- as.numeric(factor(Electric_vehicles_clean$County))\n",
    "Electric_vehicles_clean$City <- as.numeric(factor(Electric_vehicles_clean$City))\n",
    "Electric_vehicles_clean$Make <- as.numeric(factor(Electric_vehicles_clean$Make))\n",
    "Electric_vehicles_clean$Clean.Alternative.Fuel.Vehicle.Eligibility <- as.numeric(factor(Electric_vehicles_clean$Clean.Alternative.Fuel.Vehicle.Eligibility))\n",
    "Electric_vehicles_clean$Model <- as.numeric(factor(Electric_vehicles_clean$Model))\n",
    "Electric_vehicles_clean$Electric.Utility <- as.numeric(factor(Electric_vehicles_clean$Electric.Utility))\n",
    "Electric_vehicles_clean$Electric.Vehicle.Type <- as.numeric(factor(Electric_vehicles_clean$Electric.Vehicle.Type))"
   ]
  },
  {
   "cell_type": "code",
   "execution_count": 15,
   "metadata": {
    "vscode": {
     "languageId": "r"
    }
   },
   "outputs": [],
   "source": [
    "# Assuming Electric.Vehicle.Type is a factor with two levels already\n",
    "#Electric_vehicles_clean$Electric.Vehicle.Type <- as.numeric(factor(Electric_vehicles_clean$Electric.Vehicle.Type, levels = c(0, 1)))\n"
   ]
  },
  {
   "cell_type": "code",
   "execution_count": 16,
   "metadata": {
    "vscode": {
     "languageId": "r"
    }
   },
   "outputs": [
    {
     "data": {
      "text/html": [
       "<table class=\"dataframe\">\n",
       "<caption>A data.frame: 6 × 17</caption>\n",
       "<thead>\n",
       "\t<tr><th></th><th scope=col>VIN..1.10.</th><th scope=col>County</th><th scope=col>City</th><th scope=col>State</th><th scope=col>Postal.Code</th><th scope=col>Model.Year</th><th scope=col>Make</th><th scope=col>Model</th><th scope=col>Electric.Vehicle.Type</th><th scope=col>Clean.Alternative.Fuel.Vehicle.Eligibility</th><th scope=col>Electric.Range</th><th scope=col>Base.MSRP</th><th scope=col>Legislative.District</th><th scope=col>DOL.Vehicle.ID</th><th scope=col>Vehicle.Location</th><th scope=col>Electric.Utility</th><th scope=col>X2020.Census.Tract</th></tr>\n",
       "\t<tr><th></th><th scope=col>&lt;chr&gt;</th><th scope=col>&lt;dbl&gt;</th><th scope=col>&lt;dbl&gt;</th><th scope=col>&lt;chr&gt;</th><th scope=col>&lt;int&gt;</th><th scope=col>&lt;int&gt;</th><th scope=col>&lt;dbl&gt;</th><th scope=col>&lt;dbl&gt;</th><th scope=col>&lt;dbl&gt;</th><th scope=col>&lt;dbl&gt;</th><th scope=col>&lt;int&gt;</th><th scope=col>&lt;int&gt;</th><th scope=col>&lt;int&gt;</th><th scope=col>&lt;int&gt;</th><th scope=col>&lt;chr&gt;</th><th scope=col>&lt;dbl&gt;</th><th scope=col>&lt;dbl&gt;</th></tr>\n",
       "</thead>\n",
       "<tbody>\n",
       "\t<tr><th scope=row>1</th><td>5YJYGDEE1L</td><td>17</td><td>363</td><td>WA</td><td>98122</td><td>2020</td><td>35</td><td>82</td><td>1</td><td>1</td><td>291</td><td>0</td><td>37</td><td>125701579</td><td>POINT (-122.30839 47.610365) </td><td>58</td><td>53033007800</td></tr>\n",
       "\t<tr><th scope=row>2</th><td>7SAYGDEE9P</td><td>31</td><td> 37</td><td>WA</td><td>98021</td><td>2023</td><td>35</td><td>82</td><td>1</td><td>2</td><td>  0</td><td>0</td><td> 1</td><td>244285107</td><td>POINT (-122.179458 47.802589)</td><td>73</td><td>53061051938</td></tr>\n",
       "\t<tr><th scope=row>3</th><td>5YJSA1E4XK</td><td>17</td><td>363</td><td>WA</td><td>98109</td><td>2019</td><td>35</td><td>80</td><td>1</td><td>1</td><td>270</td><td>0</td><td>36</td><td>156773144</td><td>POINT (-122.34848 47.632405) </td><td>58</td><td>53033006800</td></tr>\n",
       "\t<tr><th scope=row>4</th><td>5YJSA1E27G</td><td>17</td><td>181</td><td>WA</td><td>98027</td><td>2016</td><td>35</td><td>80</td><td>1</td><td>1</td><td>210</td><td>0</td><td> 5</td><td>165103011</td><td>POINT (-122.03646 47.534065) </td><td>74</td><td>53033032104</td></tr>\n",
       "\t<tr><th scope=row>5</th><td>5YJYGDEE5M</td><td>18</td><td>405</td><td>WA</td><td>98392</td><td>2021</td><td>35</td><td>82</td><td>1</td><td>2</td><td>  0</td><td>0</td><td>23</td><td>205138552</td><td>POINT (-122.55717 47.733415) </td><td>73</td><td>53035940100</td></tr>\n",
       "\t<tr><th scope=row>6</th><td>3FA6P0SU8H</td><td>34</td><td>467</td><td>WA</td><td>98597</td><td>2017</td><td>12</td><td>52</td><td>2</td><td>3</td><td> 21</td><td>0</td><td> 2</td><td>122057736</td><td>POINT (-122.61023 46.94126)  </td><td>73</td><td>53067012532</td></tr>\n",
       "</tbody>\n",
       "</table>\n"
      ],
      "text/latex": [
       "A data.frame: 6 × 17\n",
       "\\begin{tabular}{r|lllllllllllllllll}\n",
       "  & VIN..1.10. & County & City & State & Postal.Code & Model.Year & Make & Model & Electric.Vehicle.Type & Clean.Alternative.Fuel.Vehicle.Eligibility & Electric.Range & Base.MSRP & Legislative.District & DOL.Vehicle.ID & Vehicle.Location & Electric.Utility & X2020.Census.Tract\\\\\n",
       "  & <chr> & <dbl> & <dbl> & <chr> & <int> & <int> & <dbl> & <dbl> & <dbl> & <dbl> & <int> & <int> & <int> & <int> & <chr> & <dbl> & <dbl>\\\\\n",
       "\\hline\n",
       "\t1 & 5YJYGDEE1L & 17 & 363 & WA & 98122 & 2020 & 35 & 82 & 1 & 1 & 291 & 0 & 37 & 125701579 & POINT (-122.30839 47.610365)  & 58 & 53033007800\\\\\n",
       "\t2 & 7SAYGDEE9P & 31 &  37 & WA & 98021 & 2023 & 35 & 82 & 1 & 2 &   0 & 0 &  1 & 244285107 & POINT (-122.179458 47.802589) & 73 & 53061051938\\\\\n",
       "\t3 & 5YJSA1E4XK & 17 & 363 & WA & 98109 & 2019 & 35 & 80 & 1 & 1 & 270 & 0 & 36 & 156773144 & POINT (-122.34848 47.632405)  & 58 & 53033006800\\\\\n",
       "\t4 & 5YJSA1E27G & 17 & 181 & WA & 98027 & 2016 & 35 & 80 & 1 & 1 & 210 & 0 &  5 & 165103011 & POINT (-122.03646 47.534065)  & 74 & 53033032104\\\\\n",
       "\t5 & 5YJYGDEE5M & 18 & 405 & WA & 98392 & 2021 & 35 & 82 & 1 & 2 &   0 & 0 & 23 & 205138552 & POINT (-122.55717 47.733415)  & 73 & 53035940100\\\\\n",
       "\t6 & 3FA6P0SU8H & 34 & 467 & WA & 98597 & 2017 & 12 & 52 & 2 & 3 &  21 & 0 &  2 & 122057736 & POINT (-122.61023 46.94126)   & 73 & 53067012532\\\\\n",
       "\\end{tabular}\n"
      ],
      "text/markdown": [
       "\n",
       "A data.frame: 6 × 17\n",
       "\n",
       "| <!--/--> | VIN..1.10. &lt;chr&gt; | County &lt;dbl&gt; | City &lt;dbl&gt; | State &lt;chr&gt; | Postal.Code &lt;int&gt; | Model.Year &lt;int&gt; | Make &lt;dbl&gt; | Model &lt;dbl&gt; | Electric.Vehicle.Type &lt;dbl&gt; | Clean.Alternative.Fuel.Vehicle.Eligibility &lt;dbl&gt; | Electric.Range &lt;int&gt; | Base.MSRP &lt;int&gt; | Legislative.District &lt;int&gt; | DOL.Vehicle.ID &lt;int&gt; | Vehicle.Location &lt;chr&gt; | Electric.Utility &lt;dbl&gt; | X2020.Census.Tract &lt;dbl&gt; |\n",
       "|---|---|---|---|---|---|---|---|---|---|---|---|---|---|---|---|---|---|\n",
       "| 1 | 5YJYGDEE1L | 17 | 363 | WA | 98122 | 2020 | 35 | 82 | 1 | 1 | 291 | 0 | 37 | 125701579 | POINT (-122.30839 47.610365)  | 58 | 53033007800 |\n",
       "| 2 | 7SAYGDEE9P | 31 |  37 | WA | 98021 | 2023 | 35 | 82 | 1 | 2 |   0 | 0 |  1 | 244285107 | POINT (-122.179458 47.802589) | 73 | 53061051938 |\n",
       "| 3 | 5YJSA1E4XK | 17 | 363 | WA | 98109 | 2019 | 35 | 80 | 1 | 1 | 270 | 0 | 36 | 156773144 | POINT (-122.34848 47.632405)  | 58 | 53033006800 |\n",
       "| 4 | 5YJSA1E27G | 17 | 181 | WA | 98027 | 2016 | 35 | 80 | 1 | 1 | 210 | 0 |  5 | 165103011 | POINT (-122.03646 47.534065)  | 74 | 53033032104 |\n",
       "| 5 | 5YJYGDEE5M | 18 | 405 | WA | 98392 | 2021 | 35 | 82 | 1 | 2 |   0 | 0 | 23 | 205138552 | POINT (-122.55717 47.733415)  | 73 | 53035940100 |\n",
       "| 6 | 3FA6P0SU8H | 34 | 467 | WA | 98597 | 2017 | 12 | 52 | 2 | 3 |  21 | 0 |  2 | 122057736 | POINT (-122.61023 46.94126)   | 73 | 53067012532 |\n",
       "\n"
      ],
      "text/plain": [
       "  VIN..1.10. County City State Postal.Code Model.Year Make Model\n",
       "1 5YJYGDEE1L 17     363  WA    98122       2020       35   82   \n",
       "2 7SAYGDEE9P 31      37  WA    98021       2023       35   82   \n",
       "3 5YJSA1E4XK 17     363  WA    98109       2019       35   80   \n",
       "4 5YJSA1E27G 17     181  WA    98027       2016       35   80   \n",
       "5 5YJYGDEE5M 18     405  WA    98392       2021       35   82   \n",
       "6 3FA6P0SU8H 34     467  WA    98597       2017       12   52   \n",
       "  Electric.Vehicle.Type Clean.Alternative.Fuel.Vehicle.Eligibility\n",
       "1 1                     1                                         \n",
       "2 1                     2                                         \n",
       "3 1                     1                                         \n",
       "4 1                     1                                         \n",
       "5 1                     2                                         \n",
       "6 2                     3                                         \n",
       "  Electric.Range Base.MSRP Legislative.District DOL.Vehicle.ID\n",
       "1 291            0         37                   125701579     \n",
       "2   0            0          1                   244285107     \n",
       "3 270            0         36                   156773144     \n",
       "4 210            0          5                   165103011     \n",
       "5   0            0         23                   205138552     \n",
       "6  21            0          2                   122057736     \n",
       "  Vehicle.Location              Electric.Utility X2020.Census.Tract\n",
       "1 POINT (-122.30839 47.610365)  58               53033007800       \n",
       "2 POINT (-122.179458 47.802589) 73               53061051938       \n",
       "3 POINT (-122.34848 47.632405)  58               53033006800       \n",
       "4 POINT (-122.03646 47.534065)  74               53033032104       \n",
       "5 POINT (-122.55717 47.733415)  73               53035940100       \n",
       "6 POINT (-122.61023 46.94126)   73               53067012532       "
      ]
     },
     "metadata": {},
     "output_type": "display_data"
    }
   ],
   "source": [
    "head(Electric_vehicles_clean)"
   ]
  },
  {
   "cell_type": "code",
   "execution_count": 17,
   "metadata": {
    "vscode": {
     "languageId": "r"
    }
   },
   "outputs": [
    {
     "data": {
      "text/plain": [
       "\n",
       "     1      2 \n",
       "138948  38529 "
      ]
     },
     "metadata": {},
     "output_type": "display_data"
    }
   ],
   "source": [
    "Electric_vehicles_summary<-table(Electric_vehicles_clean$Electric.Vehicle.Type)\n",
    "Electric_vehicles_summary"
   ]
  },
  {
   "cell_type": "code",
   "execution_count": 18,
   "metadata": {
    "vscode": {
     "languageId": "r"
    }
   },
   "outputs": [
    {
     "data": {
      "text/plain": [
       "\n",
       "     1      2 \n",
       "138948  38529 "
      ]
     },
     "metadata": {},
     "output_type": "display_data"
    },
    {
     "data": {
      "image/png": "[encoded data removed]",
      "text/plain": [
       "plot without title"
      ]
     },
     "metadata": {
      "image/png": {
       "height": 420,
       "width": 420
      }
     },
     "output_type": "display_data"
    }
   ],
   "source": [
    "library(ggplot2)\n",
    "\n",
    "# Plot the distribution of the target variable 'Electric.Vehicle.Type'\n",
    "ggplot(Electric_vehicles_clean, aes(x = factor(Electric.Vehicle.Type))) +\n",
    "  geom_bar() +\n",
    "  labs(x = 'Electric.Vehicle.Type', y = 'Count') +\n",
    "  ggtitle('Distribution of Electric.Vehicle.Type')\n",
    "\n",
    "# Summary of the target variable\n",
    "Electric_vehicles_summary <- table(Electric_vehicles_clean$Electric.Vehicle.Type)\n",
    "Electric_vehicles_summary"
   ]
  },
  {
   "cell_type": "code",
   "execution_count": 19,
   "metadata": {
    "vscode": {
     "languageId": "r"
    }
   },
   "outputs": [
    {
     "data": {
      "image/png": "[encoded data removed]",
      "text/plain": [
       "plot without title"
      ]
     },
     "metadata": {
      "image/png": {
       "height": 420,
       "width": 420
      }
     },
     "output_type": "display_data"
    }
   ],
   "source": [
    "# Calculate the correlation matrix for between variables\n",
    "numeric_vars <- Electric_vehicles_clean[, sapply(Electric_vehicles_clean, is.numeric)]\n",
    "cor_matrix <- cor(numeric_vars)\n",
    "\n",
    "# Visualize the correlation matrix using a heatmap\n",
    "heatmap(cor_matrix, Rowv=NA, Colv=NA, col = heat.colors(256), scale=\"column\", margins=c(5,5))"
   ]
  },
  {
   "cell_type": "code",
   "execution_count": 20,
   "metadata": {
    "vscode": {
     "languageId": "r"
    }
   },
   "outputs": [
    {
     "data": {
      "text/html": [
       "<style>\n",
       ".dl-inline {width: auto; margin:0; padding: 0}\n",
       ".dl-inline>dt, .dl-inline>dd {float: none; width: auto; display: inline-block}\n",
       ".dl-inline>dt::after {content: \":\\0020\"; padding-right: .5ex}\n",
       ".dl-inline>dt:not(:first-of-type) {padding-left: .5ex}\n",
       "</style><dl class=dl-inline><dt>Electric.Vehicle.Type</dt><dd>1</dd><dt>Make</dt><dd>0.396727872335136</dd><dt>Model</dt><dd>0.287365475080404</dd><dt>Clean.Alternative.Fuel.Vehicle.Eligibility</dt><dd>0.225689988428208</dd><dt>Model.Year</dt><dd>0.165022749456684</dd><dt>Electric.Range</dt><dd>0.160401245325957</dd><dt>Postal.Code</dt><dd>0.0970351715406858</dd><dt>Legislative.District</dt><dd>0.0690391491966289</dd><dt>Electric.Utility</dt><dd>0.0674493224655162</dd><dt>City</dt><dd>0.0458405452349573</dd><dt>Base.MSRP</dt><dd>0.0354727808595407</dd><dt>DOL.Vehicle.ID</dt><dd>0.00810638696495977</dd><dt>X2020.Census.Tract</dt><dd>0.00385346889374427</dd><dt>County</dt><dd>0.00335904724372991</dd></dl>\n"
      ],
      "text/latex": [
       "\\begin{description*}\n",
       "\\item[Electric.Vehicle.Type] 1\n",
       "\\item[Make] 0.396727872335136\n",
       "\\item[Model] 0.287365475080404\n",
       "\\item[Clean.Alternative.Fuel.Vehicle.Eligibility] 0.225689988428208\n",
       "\\item[Model.Year] 0.165022749456684\n",
       "\\item[Electric.Range] 0.160401245325957\n",
       "\\item[Postal.Code] 0.0970351715406858\n",
       "\\item[Legislative.District] 0.0690391491966289\n",
       "\\item[Electric.Utility] 0.0674493224655162\n",
       "\\item[City] 0.0458405452349573\n",
       "\\item[Base.MSRP] 0.0354727808595407\n",
       "\\item[DOL.Vehicle.ID] 0.00810638696495977\n",
       "\\item[X2020.Census.Tract] 0.00385346889374427\n",
       "\\item[County] 0.00335904724372991\n",
       "\\end{description*}\n"
      ],
      "text/markdown": [
       "Electric.Vehicle.Type\n",
       ":   1Make\n",
       ":   0.396727872335136Model\n",
       ":   0.287365475080404Clean.Alternative.Fuel.Vehicle.Eligibility\n",
       ":   0.225689988428208Model.Year\n",
       ":   0.165022749456684Electric.Range\n",
       ":   0.160401245325957Postal.Code\n",
       ":   0.0970351715406858Legislative.District\n",
       ":   0.0690391491966289Electric.Utility\n",
       ":   0.0674493224655162City\n",
       ":   0.0458405452349573Base.MSRP\n",
       ":   0.0354727808595407DOL.Vehicle.ID\n",
       ":   0.00810638696495977X2020.Census.Tract\n",
       ":   0.00385346889374427County\n",
       ":   0.00335904724372991\n",
       "\n"
      ],
      "text/plain": [
       "                     Electric.Vehicle.Type \n",
       "                               1.000000000 \n",
       "                                      Make \n",
       "                               0.396727872 \n",
       "                                     Model \n",
       "                               0.287365475 \n",
       "Clean.Alternative.Fuel.Vehicle.Eligibility \n",
       "                               0.225689988 \n",
       "                                Model.Year \n",
       "                               0.165022749 \n",
       "                            Electric.Range \n",
       "                               0.160401245 \n",
       "                               Postal.Code \n",
       "                               0.097035172 \n",
       "                      Legislative.District \n",
       "                               0.069039149 \n",
       "                          Electric.Utility \n",
       "                               0.067449322 \n",
       "                                      City \n",
       "                               0.045840545 \n",
       "                                 Base.MSRP \n",
       "                               0.035472781 \n",
       "                            DOL.Vehicle.ID \n",
       "                               0.008106387 \n",
       "                        X2020.Census.Tract \n",
       "                               0.003853469 \n",
       "                                    County \n",
       "                               0.003359047 "
      ]
     },
     "metadata": {},
     "output_type": "display_data"
    }
   ],
   "source": [
    "# Calculate the correlation of all predictors with the target variable'churn'\n",
    "correlations <- cor(Electric_vehicles_clean[, sapply(Electric_vehicles_clean, is.numeric)])\n",
    "correlation_with_target <- abs(correlations[,'Electric.Vehicle.Type'])\n",
    "\n",
    "# Sort features by their correlation with 'churn'\n",
    "sorted_features <- sort(correlation_with_target, decreasing = TRUE)\n",
    "\n",
    "# Display the sorted features\n",
    "sorted_features\n"
   ]
  },
  {
   "cell_type": "code",
   "execution_count": 21,
   "metadata": {
    "vscode": {
     "languageId": "r"
    }
   },
   "outputs": [
    {
     "data": {
      "text/html": [
       "<style>\n",
       ".list-inline {list-style: none; margin:0; padding: 0}\n",
       ".list-inline>li {display: inline-block}\n",
       ".list-inline>li:not(:last-child)::after {content: \"\\00b7\"; padding: 0 .5ex}\n",
       "</style>\n",
       "<ol class=list-inline><li>'Model.Year'</li><li>'Make'</li><li>'Model'</li><li>'Electric.Vehicle.Type'</li><li>'Clean.Alternative.Fuel.Vehicle.Eligibility'</li><li>'Electric.Range'</li></ol>\n"
      ],
      "text/latex": [
       "\\begin{enumerate*}\n",
       "\\item 'Model.Year'\n",
       "\\item 'Make'\n",
       "\\item 'Model'\n",
       "\\item 'Electric.Vehicle.Type'\n",
       "\\item 'Clean.Alternative.Fuel.Vehicle.Eligibility'\n",
       "\\item 'Electric.Range'\n",
       "\\end{enumerate*}\n"
      ],
      "text/markdown": [
       "1. 'Model.Year'\n",
       "2. 'Make'\n",
       "3. 'Model'\n",
       "4. 'Electric.Vehicle.Type'\n",
       "5. 'Clean.Alternative.Fuel.Vehicle.Eligibility'\n",
       "6. 'Electric.Range'\n",
       "\n",
       "\n"
      ],
      "text/plain": [
       "[1] \"Model.Year\"                                \n",
       "[2] \"Make\"                                      \n",
       "[3] \"Model\"                                     \n",
       "[4] \"Electric.Vehicle.Type\"                     \n",
       "[5] \"Clean.Alternative.Fuel.Vehicle.Eligibility\"\n",
       "[6] \"Electric.Range\"                            "
      ]
     },
     "metadata": {},
     "output_type": "display_data"
    }
   ],
   "source": [
    "# Define a threshold for low correlation\n",
    "threshold <- 0.1\n",
    "\n",
    "# Identify features that have a correlation higher than the threshold\n",
    "features_to_keep <- names(correlation_with_target[correlation_with_target > threshold])\n",
    "features_to_keep"
   ]
  },
  {
   "cell_type": "code",
   "execution_count": 22,
   "metadata": {
    "vscode": {
     "languageId": "r"
    }
   },
   "outputs": [
    {
     "data": {
      "text/html": [
       "<table class=\"dataframe\">\n",
       "<caption>A data.frame: 6 × 6</caption>\n",
       "<thead>\n",
       "\t<tr><th></th><th scope=col>Model.Year</th><th scope=col>Make</th><th scope=col>Model</th><th scope=col>Electric.Vehicle.Type</th><th scope=col>Clean.Alternative.Fuel.Vehicle.Eligibility</th><th scope=col>Electric.Range</th></tr>\n",
       "\t<tr><th></th><th scope=col>&lt;int&gt;</th><th scope=col>&lt;dbl&gt;</th><th scope=col>&lt;dbl&gt;</th><th scope=col>&lt;dbl&gt;</th><th scope=col>&lt;dbl&gt;</th><th scope=col>&lt;int&gt;</th></tr>\n",
       "</thead>\n",
       "<tbody>\n",
       "\t<tr><th scope=row>1</th><td>2020</td><td>35</td><td>82</td><td>1</td><td>1</td><td>291</td></tr>\n",
       "\t<tr><th scope=row>2</th><td>2023</td><td>35</td><td>82</td><td>1</td><td>2</td><td>  0</td></tr>\n",
       "\t<tr><th scope=row>3</th><td>2019</td><td>35</td><td>80</td><td>1</td><td>1</td><td>270</td></tr>\n",
       "\t<tr><th scope=row>4</th><td>2016</td><td>35</td><td>80</td><td>1</td><td>1</td><td>210</td></tr>\n",
       "\t<tr><th scope=row>5</th><td>2021</td><td>35</td><td>82</td><td>1</td><td>2</td><td>  0</td></tr>\n",
       "\t<tr><th scope=row>6</th><td>2017</td><td>12</td><td>52</td><td>2</td><td>3</td><td> 21</td></tr>\n",
       "</tbody>\n",
       "</table>\n"
      ],
      "text/latex": [
       "A data.frame: 6 × 6\n",
       "\\begin{tabular}{r|llllll}\n",
       "  & Model.Year & Make & Model & Electric.Vehicle.Type & Clean.Alternative.Fuel.Vehicle.Eligibility & Electric.Range\\\\\n",
       "  & <int> & <dbl> & <dbl> & <dbl> & <dbl> & <int>\\\\\n",
       "\\hline\n",
       "\t1 & 2020 & 35 & 82 & 1 & 1 & 291\\\\\n",
       "\t2 & 2023 & 35 & 82 & 1 & 2 &   0\\\\\n",
       "\t3 & 2019 & 35 & 80 & 1 & 1 & 270\\\\\n",
       "\t4 & 2016 & 35 & 80 & 1 & 1 & 210\\\\\n",
       "\t5 & 2021 & 35 & 82 & 1 & 2 &   0\\\\\n",
       "\t6 & 2017 & 12 & 52 & 2 & 3 &  21\\\\\n",
       "\\end{tabular}\n"
      ],
      "text/markdown": [
       "\n",
       "A data.frame: 6 × 6\n",
       "\n",
       "| <!--/--> | Model.Year &lt;int&gt; | Make &lt;dbl&gt; | Model &lt;dbl&gt; | Electric.Vehicle.Type &lt;dbl&gt; | Clean.Alternative.Fuel.Vehicle.Eligibility &lt;dbl&gt; | Electric.Range &lt;int&gt; |\n",
       "|---|---|---|---|---|---|---|\n",
       "| 1 | 2020 | 35 | 82 | 1 | 1 | 291 |\n",
       "| 2 | 2023 | 35 | 82 | 1 | 2 |   0 |\n",
       "| 3 | 2019 | 35 | 80 | 1 | 1 | 270 |\n",
       "| 4 | 2016 | 35 | 80 | 1 | 1 | 210 |\n",
       "| 5 | 2021 | 35 | 82 | 1 | 2 |   0 |\n",
       "| 6 | 2017 | 12 | 52 | 2 | 3 |  21 |\n",
       "\n"
      ],
      "text/plain": [
       "  Model.Year Make Model Electric.Vehicle.Type\n",
       "1 2020       35   82    1                    \n",
       "2 2023       35   82    1                    \n",
       "3 2019       35   80    1                    \n",
       "4 2016       35   80    1                    \n",
       "5 2021       35   82    1                    \n",
       "6 2017       12   52    2                    \n",
       "  Clean.Alternative.Fuel.Vehicle.Eligibility Electric.Range\n",
       "1 1                                          291           \n",
       "2 2                                            0           \n",
       "3 1                                          270           \n",
       "4 1                                          210           \n",
       "5 2                                            0           \n",
       "6 3                                           21           "
      ]
     },
     "metadata": {},
     "output_type": "display_data"
    }
   ],
   "source": [
    "# Subset the data to keep only the features with high enough correlation\n",
    "Electric_vehicles_sorted <- Electric_vehicles_clean[, features_to_keep]\n",
    "\n",
    "# Display the dataset with low-correlation features removed\n",
    "head(Electric_vehicles_sorted)"
   ]
  },
  {
   "cell_type": "code",
   "execution_count": 23,
   "metadata": {
    "vscode": {
     "languageId": "r"
    }
   },
   "outputs": [],
   "source": [
    "# Normalization\n",
    "# Remove Electric Vehicle Type column from the dataset so it doesn't get normalized\n",
    "library(caret)\n",
    "sdataset <- subset(Electric_vehicles_sorted,  select = -c(Electric.Vehicle.Type) )\n"
   ]
  },
  {
   "cell_type": "code",
   "execution_count": 24,
   "metadata": {
    "vscode": {
     "languageId": "r"
    }
   },
   "outputs": [
    {
     "data": {
      "text/html": [
       "<table class=\"dataframe\">\n",
       "<caption>A data.frame: 6 × 5</caption>\n",
       "<thead>\n",
       "\t<tr><th></th><th scope=col>Model.Year</th><th scope=col>Make</th><th scope=col>Model</th><th scope=col>Clean.Alternative.Fuel.Vehicle.Eligibility</th><th scope=col>Electric.Range</th></tr>\n",
       "\t<tr><th></th><th scope=col>&lt;int&gt;</th><th scope=col>&lt;dbl&gt;</th><th scope=col>&lt;dbl&gt;</th><th scope=col>&lt;dbl&gt;</th><th scope=col>&lt;int&gt;</th></tr>\n",
       "</thead>\n",
       "<tbody>\n",
       "\t<tr><th scope=row>1</th><td>2020</td><td>35</td><td>82</td><td>1</td><td>291</td></tr>\n",
       "\t<tr><th scope=row>2</th><td>2023</td><td>35</td><td>82</td><td>2</td><td>  0</td></tr>\n",
       "\t<tr><th scope=row>3</th><td>2019</td><td>35</td><td>80</td><td>1</td><td>270</td></tr>\n",
       "\t<tr><th scope=row>4</th><td>2016</td><td>35</td><td>80</td><td>1</td><td>210</td></tr>\n",
       "\t<tr><th scope=row>5</th><td>2021</td><td>35</td><td>82</td><td>2</td><td>  0</td></tr>\n",
       "\t<tr><th scope=row>6</th><td>2017</td><td>12</td><td>52</td><td>3</td><td> 21</td></tr>\n",
       "</tbody>\n",
       "</table>\n"
      ],
      "text/latex": [
       "A data.frame: 6 × 5\n",
       "\\begin{tabular}{r|lllll}\n",
       "  & Model.Year & Make & Model & Clean.Alternative.Fuel.Vehicle.Eligibility & Electric.Range\\\\\n",
       "  & <int> & <dbl> & <dbl> & <dbl> & <int>\\\\\n",
       "\\hline\n",
       "\t1 & 2020 & 35 & 82 & 1 & 291\\\\\n",
       "\t2 & 2023 & 35 & 82 & 2 &   0\\\\\n",
       "\t3 & 2019 & 35 & 80 & 1 & 270\\\\\n",
       "\t4 & 2016 & 35 & 80 & 1 & 210\\\\\n",
       "\t5 & 2021 & 35 & 82 & 2 &   0\\\\\n",
       "\t6 & 2017 & 12 & 52 & 3 &  21\\\\\n",
       "\\end{tabular}\n"
      ],
      "text/markdown": [
       "\n",
       "A data.frame: 6 × 5\n",
       "\n",
       "| <!--/--> | Model.Year &lt;int&gt; | Make &lt;dbl&gt; | Model &lt;dbl&gt; | Clean.Alternative.Fuel.Vehicle.Eligibility &lt;dbl&gt; | Electric.Range &lt;int&gt; |\n",
       "|---|---|---|---|---|---|\n",
       "| 1 | 2020 | 35 | 82 | 1 | 291 |\n",
       "| 2 | 2023 | 35 | 82 | 2 |   0 |\n",
       "| 3 | 2019 | 35 | 80 | 1 | 270 |\n",
       "| 4 | 2016 | 35 | 80 | 1 | 210 |\n",
       "| 5 | 2021 | 35 | 82 | 2 |   0 |\n",
       "| 6 | 2017 | 12 | 52 | 3 |  21 |\n",
       "\n"
      ],
      "text/plain": [
       "  Model.Year Make Model Clean.Alternative.Fuel.Vehicle.Eligibility\n",
       "1 2020       35   82    1                                         \n",
       "2 2023       35   82    2                                         \n",
       "3 2019       35   80    1                                         \n",
       "4 2016       35   80    1                                         \n",
       "5 2021       35   82    2                                         \n",
       "6 2017       12   52    3                                         \n",
       "  Electric.Range\n",
       "1 291           \n",
       "2   0           \n",
       "3 270           \n",
       "4 210           \n",
       "5   0           \n",
       "6  21           "
      ]
     },
     "metadata": {},
     "output_type": "display_data"
    }
   ],
   "source": [
    "head(sdataset)"
   ]
  },
  {
   "cell_type": "code",
   "execution_count": 25,
   "metadata": {
    "vscode": {
     "languageId": "r"
    }
   },
   "outputs": [],
   "source": [
    "# `preProcess` function can scale and center (standardize) the data\n",
    "preprocessor <- preProcess(sdataset, method = c(\"center\", \"scale\"))\n",
    "Electric_vehicles_normalized <- predict(preprocessor, sdataset)"
   ]
  },
  {
   "cell_type": "code",
   "execution_count": 26,
   "metadata": {
    "vscode": {
     "languageId": "r"
    }
   },
   "outputs": [
    {
     "data": {
      "text/html": [
       "<table class=\"dataframe\">\n",
       "<caption>A data.frame: 6 × 5</caption>\n",
       "<thead>\n",
       "\t<tr><th></th><th scope=col>Model.Year</th><th scope=col>Make</th><th scope=col>Model</th><th scope=col>Clean.Alternative.Fuel.Vehicle.Eligibility</th><th scope=col>Electric.Range</th></tr>\n",
       "\t<tr><th></th><th scope=col>&lt;dbl&gt;</th><th scope=col>&lt;dbl&gt;</th><th scope=col>&lt;dbl&gt;</th><th scope=col>&lt;dbl&gt;</th><th scope=col>&lt;dbl&gt;</th></tr>\n",
       "</thead>\n",
       "<tbody>\n",
       "\t<tr><th scope=row>1</th><td>-0.1729901</td><td> 0.7326564</td><td> 0.14146508</td><td>-1.1460753</td><td> 2.5243852</td></tr>\n",
       "\t<tr><th scope=row>2</th><td> 0.8306308</td><td> 0.7326564</td><td> 0.14146508</td><td> 0.4086174</td><td>-0.6395993</td></tr>\n",
       "\t<tr><th scope=row>3</th><td>-0.5075304</td><td> 0.7326564</td><td> 0.06929173</td><td>-1.1460753</td><td> 2.2960565</td></tr>\n",
       "\t<tr><th scope=row>4</th><td>-1.5111513</td><td> 0.7326564</td><td> 0.06929173</td><td>-1.1460753</td><td> 1.6436885</td></tr>\n",
       "\t<tr><th scope=row>5</th><td> 0.1615502</td><td> 0.7326564</td><td> 0.14146508</td><td> 0.4086174</td><td>-0.6395993</td></tr>\n",
       "\t<tr><th scope=row>6</th><td>-1.1766110</td><td>-1.2552871</td><td>-0.94113514</td><td> 1.9633102</td><td>-0.4112705</td></tr>\n",
       "</tbody>\n",
       "</table>\n"
      ],
      "text/latex": [
       "A data.frame: 6 × 5\n",
       "\\begin{tabular}{r|lllll}\n",
       "  & Model.Year & Make & Model & Clean.Alternative.Fuel.Vehicle.Eligibility & Electric.Range\\\\\n",
       "  & <dbl> & <dbl> & <dbl> & <dbl> & <dbl>\\\\\n",
       "\\hline\n",
       "\t1 & -0.1729901 &  0.7326564 &  0.14146508 & -1.1460753 &  2.5243852\\\\\n",
       "\t2 &  0.8306308 &  0.7326564 &  0.14146508 &  0.4086174 & -0.6395993\\\\\n",
       "\t3 & -0.5075304 &  0.7326564 &  0.06929173 & -1.1460753 &  2.2960565\\\\\n",
       "\t4 & -1.5111513 &  0.7326564 &  0.06929173 & -1.1460753 &  1.6436885\\\\\n",
       "\t5 &  0.1615502 &  0.7326564 &  0.14146508 &  0.4086174 & -0.6395993\\\\\n",
       "\t6 & -1.1766110 & -1.2552871 & -0.94113514 &  1.9633102 & -0.4112705\\\\\n",
       "\\end{tabular}\n"
      ],
      "text/markdown": [
       "\n",
       "A data.frame: 6 × 5\n",
       "\n",
       "| <!--/--> | Model.Year &lt;dbl&gt; | Make &lt;dbl&gt; | Model &lt;dbl&gt; | Clean.Alternative.Fuel.Vehicle.Eligibility &lt;dbl&gt; | Electric.Range &lt;dbl&gt; |\n",
       "|---|---|---|---|---|---|\n",
       "| 1 | -0.1729901 |  0.7326564 |  0.14146508 | -1.1460753 |  2.5243852 |\n",
       "| 2 |  0.8306308 |  0.7326564 |  0.14146508 |  0.4086174 | -0.6395993 |\n",
       "| 3 | -0.5075304 |  0.7326564 |  0.06929173 | -1.1460753 |  2.2960565 |\n",
       "| 4 | -1.5111513 |  0.7326564 |  0.06929173 | -1.1460753 |  1.6436885 |\n",
       "| 5 |  0.1615502 |  0.7326564 |  0.14146508 |  0.4086174 | -0.6395993 |\n",
       "| 6 | -1.1766110 | -1.2552871 | -0.94113514 |  1.9633102 | -0.4112705 |\n",
       "\n"
      ],
      "text/plain": [
       "  Model.Year Make       Model       Clean.Alternative.Fuel.Vehicle.Eligibility\n",
       "1 -0.1729901  0.7326564  0.14146508 -1.1460753                                \n",
       "2  0.8306308  0.7326564  0.14146508  0.4086174                                \n",
       "3 -0.5075304  0.7326564  0.06929173 -1.1460753                                \n",
       "4 -1.5111513  0.7326564  0.06929173 -1.1460753                                \n",
       "5  0.1615502  0.7326564  0.14146508  0.4086174                                \n",
       "6 -1.1766110 -1.2552871 -0.94113514  1.9633102                                \n",
       "  Electric.Range\n",
       "1  2.5243852    \n",
       "2 -0.6395993    \n",
       "3  2.2960565    \n",
       "4  1.6436885    \n",
       "5 -0.6395993    \n",
       "6 -0.4112705    "
      ]
     },
     "metadata": {},
     "output_type": "display_data"
    }
   ],
   "source": [
    "head(Electric_vehicles_normalized)"
   ]
  },
  {
   "cell_type": "code",
   "execution_count": 27,
   "metadata": {
    "vscode": {
     "languageId": "r"
    }
   },
   "outputs": [
    {
     "data": {
      "text/plain": [
       "   Model.Year           Make             Model         \n",
       " Min.   :-7.8674   Min.   :-2.2060   Min.   :-2.78156  \n",
       " 1st Qu.:-0.5075   1st Qu.:-0.8231   1st Qu.:-0.03897  \n",
       " Median : 0.4961   Median : 0.7327   Median : 0.06929  \n",
       " Mean   : 0.0000   Mean   : 0.0000   Mean   : 0.00000  \n",
       " 3rd Qu.: 0.8306   3rd Qu.: 0.7327   3rd Qu.: 0.14147  \n",
       " Max.   : 1.1652   Max.   : 1.1648   Max.   : 2.19841  \n",
       " Clean.Alternative.Fuel.Vehicle.Eligibility Electric.Range   \n",
       " Min.   :-1.1461                            Min.   :-0.6396  \n",
       " 1st Qu.:-1.1461                            1st Qu.:-0.6396  \n",
       " Median : 0.4086                            Median :-0.6396  \n",
       " Mean   : 0.0000                            Mean   : 0.0000  \n",
       " 3rd Qu.: 0.4086                            3rd Qu.: 0.1759  \n",
       " Max.   : 1.9633                            Max.   : 3.0245  "
      ]
     },
     "metadata": {},
     "output_type": "display_data"
    }
   ],
   "source": [
    "summary(Electric_vehicles_normalized)"
   ]
  },
  {
   "cell_type": "code",
   "execution_count": 28,
   "metadata": {
    "vscode": {
     "languageId": "r"
    }
   },
   "outputs": [],
   "source": [
    "# Add the Electric Vehicle Type column back to the dataset\n",
    "Electric_vehicles_normalized$Electric.Vehicle.Type <- Electric_vehicles_sorted$Electric.Vehicle.Type"
   ]
  },
  {
   "cell_type": "code",
   "execution_count": 29,
   "metadata": {
    "vscode": {
     "languageId": "r"
    }
   },
   "outputs": [
    {
     "data": {
      "text/plain": [
       "\n",
       "     1      2 \n",
       "138948  38529 "
      ]
     },
     "metadata": {},
     "output_type": "display_data"
    }
   ],
   "source": [
    "Electric_vehicles_normalized_summary<-table(Electric_vehicles_normalized$Electric.Vehicle.Type)\n",
    "Electric_vehicles_normalized_summary"
   ]
  },
  {
   "cell_type": "code",
   "execution_count": 30,
   "metadata": {
    "vscode": {
     "languageId": "r"
    }
   },
   "outputs": [
    {
     "data": {
      "text/html": [
       "<table class=\"dataframe\">\n",
       "<caption>A data.frame: 6 × 6</caption>\n",
       "<thead>\n",
       "\t<tr><th></th><th scope=col>Model.Year</th><th scope=col>Make</th><th scope=col>Model</th><th scope=col>Clean.Alternative.Fuel.Vehicle.Eligibility</th><th scope=col>Electric.Range</th><th scope=col>Electric.Vehicle.Type</th></tr>\n",
       "\t<tr><th></th><th scope=col>&lt;dbl&gt;</th><th scope=col>&lt;dbl&gt;</th><th scope=col>&lt;dbl&gt;</th><th scope=col>&lt;dbl&gt;</th><th scope=col>&lt;dbl&gt;</th><th scope=col>&lt;dbl&gt;</th></tr>\n",
       "</thead>\n",
       "<tbody>\n",
       "\t<tr><th scope=row>1</th><td>-0.1729901</td><td> 0.7326564</td><td> 0.14146508</td><td>-1.1460753</td><td> 2.5243852</td><td>1</td></tr>\n",
       "\t<tr><th scope=row>2</th><td> 0.8306308</td><td> 0.7326564</td><td> 0.14146508</td><td> 0.4086174</td><td>-0.6395993</td><td>1</td></tr>\n",
       "\t<tr><th scope=row>3</th><td>-0.5075304</td><td> 0.7326564</td><td> 0.06929173</td><td>-1.1460753</td><td> 2.2960565</td><td>1</td></tr>\n",
       "\t<tr><th scope=row>4</th><td>-1.5111513</td><td> 0.7326564</td><td> 0.06929173</td><td>-1.1460753</td><td> 1.6436885</td><td>1</td></tr>\n",
       "\t<tr><th scope=row>5</th><td> 0.1615502</td><td> 0.7326564</td><td> 0.14146508</td><td> 0.4086174</td><td>-0.6395993</td><td>1</td></tr>\n",
       "\t<tr><th scope=row>6</th><td>-1.1766110</td><td>-1.2552871</td><td>-0.94113514</td><td> 1.9633102</td><td>-0.4112705</td><td>2</td></tr>\n",
       "</tbody>\n",
       "</table>\n"
      ],
      "text/latex": [
       "A data.frame: 6 × 6\n",
       "\\begin{tabular}{r|llllll}\n",
       "  & Model.Year & Make & Model & Clean.Alternative.Fuel.Vehicle.Eligibility & Electric.Range & Electric.Vehicle.Type\\\\\n",
       "  & <dbl> & <dbl> & <dbl> & <dbl> & <dbl> & <dbl>\\\\\n",
       "\\hline\n",
       "\t1 & -0.1729901 &  0.7326564 &  0.14146508 & -1.1460753 &  2.5243852 & 1\\\\\n",
       "\t2 &  0.8306308 &  0.7326564 &  0.14146508 &  0.4086174 & -0.6395993 & 1\\\\\n",
       "\t3 & -0.5075304 &  0.7326564 &  0.06929173 & -1.1460753 &  2.2960565 & 1\\\\\n",
       "\t4 & -1.5111513 &  0.7326564 &  0.06929173 & -1.1460753 &  1.6436885 & 1\\\\\n",
       "\t5 &  0.1615502 &  0.7326564 &  0.14146508 &  0.4086174 & -0.6395993 & 1\\\\\n",
       "\t6 & -1.1766110 & -1.2552871 & -0.94113514 &  1.9633102 & -0.4112705 & 2\\\\\n",
       "\\end{tabular}\n"
      ],
      "text/markdown": [
       "\n",
       "A data.frame: 6 × 6\n",
       "\n",
       "| <!--/--> | Model.Year &lt;dbl&gt; | Make &lt;dbl&gt; | Model &lt;dbl&gt; | Clean.Alternative.Fuel.Vehicle.Eligibility &lt;dbl&gt; | Electric.Range &lt;dbl&gt; | Electric.Vehicle.Type &lt;dbl&gt; |\n",
       "|---|---|---|---|---|---|---|\n",
       "| 1 | -0.1729901 |  0.7326564 |  0.14146508 | -1.1460753 |  2.5243852 | 1 |\n",
       "| 2 |  0.8306308 |  0.7326564 |  0.14146508 |  0.4086174 | -0.6395993 | 1 |\n",
       "| 3 | -0.5075304 |  0.7326564 |  0.06929173 | -1.1460753 |  2.2960565 | 1 |\n",
       "| 4 | -1.5111513 |  0.7326564 |  0.06929173 | -1.1460753 |  1.6436885 | 1 |\n",
       "| 5 |  0.1615502 |  0.7326564 |  0.14146508 |  0.4086174 | -0.6395993 | 1 |\n",
       "| 6 | -1.1766110 | -1.2552871 | -0.94113514 |  1.9633102 | -0.4112705 | 2 |\n",
       "\n"
      ],
      "text/plain": [
       "  Model.Year Make       Model       Clean.Alternative.Fuel.Vehicle.Eligibility\n",
       "1 -0.1729901  0.7326564  0.14146508 -1.1460753                                \n",
       "2  0.8306308  0.7326564  0.14146508  0.4086174                                \n",
       "3 -0.5075304  0.7326564  0.06929173 -1.1460753                                \n",
       "4 -1.5111513  0.7326564  0.06929173 -1.1460753                                \n",
       "5  0.1615502  0.7326564  0.14146508  0.4086174                                \n",
       "6 -1.1766110 -1.2552871 -0.94113514  1.9633102                                \n",
       "  Electric.Range Electric.Vehicle.Type\n",
       "1  2.5243852     1                    \n",
       "2 -0.6395993     1                    \n",
       "3  2.2960565     1                    \n",
       "4  1.6436885     1                    \n",
       "5 -0.6395993     1                    \n",
       "6 -0.4112705     2                    "
      ]
     },
     "metadata": {},
     "output_type": "display_data"
    }
   ],
   "source": [
    "head(Electric_vehicles_normalized)"
   ]
  },
  {
   "cell_type": "code",
   "execution_count": 31,
   "metadata": {
    "vscode": {
     "languageId": "r"
    }
   },
   "outputs": [],
   "source": [
    "# Ensure 'Electric Vehicle Type' is a factor with two levels: 0 and 1\n",
    "Electric_vehicles_normalized$Electric.Vehicle.Type <- factor(Electric_vehicles_sorted$Electric.Vehicle.Type)\n",
    "#Electric_vehicles_normalized$Electric.Vehicle.Type <- factor(Electric_vehicles_sorted$Electric.Vehicle.Type, levels = c(0, 1))"
   ]
  },
  {
   "cell_type": "code",
   "execution_count": 32,
   "metadata": {
    "vscode": {
     "languageId": "r"
    }
   },
   "outputs": [
    {
     "name": "stdout",
     "output_type": "stream",
     "text": [
      "'data.frame':\t177477 obs. of  6 variables:\n",
      " $ Model.Year                                : num  -0.173 0.831 -0.508 -1.511 0.162 ...\n",
      " $ Make                                      : num  0.733 0.733 0.733 0.733 0.733 ...\n",
      " $ Model                                     : num  0.1415 0.1415 0.0693 0.0693 0.1415 ...\n",
      " $ Clean.Alternative.Fuel.Vehicle.Eligibility: num  -1.146 0.409 -1.146 -1.146 0.409 ...\n",
      " $ Electric.Range                            : num  2.52 -0.64 2.3 1.64 -0.64 ...\n",
      " $ Electric.Vehicle.Type                     : Factor w/ 2 levels \"1\",\"2\": 1 1 1 1 1 2 1 2 1 2 ...\n"
     ]
    }
   ],
   "source": [
    "str(Electric_vehicles_normalized)"
   ]
  },
  {
   "cell_type": "code",
   "execution_count": 33,
   "metadata": {
    "vscode": {
     "languageId": "r"
    }
   },
   "outputs": [
    {
     "name": "stderr",
     "output_type": "stream",
     "text": [
      "Loading required package: ROSE\n",
      "\n",
      "Loaded ROSE 0.0-4\n",
      "\n",
      "\n"
     ]
    },
    {
     "data": {
      "text/plain": [
       "\n",
       "    1     2 \n",
       "89242 88235 "
      ]
     },
     "metadata": {},
     "output_type": "display_data"
    }
   ],
   "source": [
    "# Install ROSE package if not already installed\n",
    "if (!require(\"ROSE\")) {\n",
    "    install.packages(\"ROSE\", dependencies = TRUE)\n",
    "    library(ROSE)\n",
    "}\n",
    "\n",
    "# Assuming your data frame is Electric_vehicles_clean and the target column is Electric.Vehicle.Type\n",
    "# Perform oversampling and undersampling using ROSE\n",
    "set.seed(256)  # For reproducibility\n",
    "balanced_data <- ovun.sample(Electric.Vehicle.Type ~ ., data = Electric_vehicles_normalized, method = \"both\", N = nrow(Electric_vehicles_normalized), seed = 256)$data\n",
    "\n",
    "# Print the value counts of the resampled 'Electric.Vehicle.Type'\n",
    "table(balanced_data$Electric.Vehicle.Type)\n"
   ]
  },
  {
   "cell_type": "code",
   "execution_count": 34,
   "metadata": {
    "vscode": {
     "languageId": "r"
    }
   },
   "outputs": [
    {
     "data": {
      "text/html": [
       "<style>\n",
       ".dl-inline {width: auto; margin:0; padding: 0}\n",
       ".dl-inline>dt, .dl-inline>dd {float: none; width: auto; display: inline-block}\n",
       ".dl-inline>dt::after {content: \":\\0020\"; padding-right: .5ex}\n",
       ".dl-inline>dt:not(:first-of-type) {padding-left: .5ex}\n",
       "</style><dl class=dl-inline><dt>Model.Year</dt><dd>2448</dd><dt>Make</dt><dd>0</dd><dt>Model</dt><dd>71991</dd><dt>Clean.Alternative.Fuel.Vehicle.Eligibility</dt><dd>0</dd><dt>Electric.Range</dt><dd>32454</dd></dl>\n"
      ],
      "text/latex": [
       "\\begin{description*}\n",
       "\\item[Model.Year] 2448\n",
       "\\item[Make] 0\n",
       "\\item[Model] 71991\n",
       "\\item[Clean.Alternative.Fuel.Vehicle.Eligibility] 0\n",
       "\\item[Electric.Range] 32454\n",
       "\\end{description*}\n"
      ],
      "text/markdown": [
       "Model.Year\n",
       ":   2448Make\n",
       ":   0Model\n",
       ":   71991Clean.Alternative.Fuel.Vehicle.Eligibility\n",
       ":   0Electric.Range\n",
       ":   32454\n",
       "\n"
      ],
      "text/plain": [
       "                                Model.Year \n",
       "                                      2448 \n",
       "                                      Make \n",
       "                                         0 \n",
       "                                     Model \n",
       "                                     71991 \n",
       "Clean.Alternative.Fuel.Vehicle.Eligibility \n",
       "                                         0 \n",
       "                            Electric.Range \n",
       "                                     32454 "
      ]
     },
     "metadata": {},
     "output_type": "display_data"
    }
   ],
   "source": [
    "# Check for outliers using the IQR method\n",
    "# Identify numeric columns\n",
    "numeric_columns <- sapply(Electric_vehicles_normalized, is.numeric)\n",
    "\n",
    "# Check for outliers using the IQR method\n",
    "outliers <- sapply(Electric_vehicles_normalized[numeric_columns], function(x) {\n",
    "  q75 <- quantile(x, 0.75, na.rm = TRUE)\n",
    "  q25 <- quantile(x, 0.25, na.rm = TRUE)\n",
    "  iqr <- q75 - q25\n",
    "  sum(x < (q25 - 1.5 * iqr) | x > (q75 + 1.5 * iqr))\n",
    "})\n",
    "outliers"
   ]
  },
  {
   "cell_type": "markdown",
   "metadata": {},
   "source": [
    "## MODEL BUILDING"
   ]
  },
  {
   "cell_type": "code",
   "execution_count": 35,
   "metadata": {
    "vscode": {
     "languageId": "r"
    }
   },
   "outputs": [
    {
     "name": "stderr",
     "output_type": "stream",
     "text": [
      "Installing package into 'C:/Users/lynne/AppData/Local/R/win-library/4.3'\n",
      "(as 'lib' is unspecified)\n",
      "\n"
     ]
    },
    {
     "name": "stdout",
     "output_type": "stream",
     "text": [
      "package 'xgboost' successfully unpacked and MD5 sums checked\n"
     ]
    },
    {
     "name": "stderr",
     "output_type": "stream",
     "text": [
      "Warning message:\n",
      "\"cannot remove prior installation of package 'xgboost'\"\n",
      "Warning message in file.copy(savedcopy, lib, recursive = TRUE):\n",
      "\"problem copying C:\\Users\\lynne\\AppData\\Local\\R\\win-library\\4.3\\00LOCK\\xgboost\\libs\\x64\\xgboost.dll to C:\\Users\\lynne\\AppData\\Local\\R\\win-library\\4.3\\xgboost\\libs\\x64\\xgboost.dll: Permission denied\"\n",
      "Warning message:\n",
      "\"restored 'xgboost'\"\n"
     ]
    },
    {
     "name": "stdout",
     "output_type": "stream",
     "text": [
      "\n",
      "The downloaded binary packages are in\n",
      "\tC:\\Users\\lynne\\AppData\\Local\\Temp\\Rtmpk1rNc2\\downloaded_packages\n"
     ]
    },
    {
     "name": "stderr",
     "output_type": "stream",
     "text": [
      "Warning message:\n",
      "\"package 'caret' is in use and will not be installed\"\n",
      "\n",
      "Attaching package: 'xgboost'\n",
      "\n",
      "\n",
      "The following object is masked from 'package:dplyr':\n",
      "\n",
      "    slice\n",
      "\n",
      "\n"
     ]
    }
   ],
   "source": [
    "#install.packages(\"xgboost\")\n",
    "#install.packages(\"caret\")\n",
    "\n",
    "\n",
    "# Load necessary libraries\n",
    "library(caret)\n",
    "library(xgboost)\n",
    "library(pROC)"
   ]
  },
  {
   "cell_type": "code",
   "execution_count": 54,
   "metadata": {
    "vscode": {
     "languageId": "r"
    }
   },
   "outputs": [],
   "source": [
    "\n",
    "# Set seed for reproducibility\n",
    "set.seed(123)\n",
    "\n",
    "# Split the data into training and testing sets\n",
    "trainIndex <- createDataPartition(balanced_data$Electric.Vehicle.Type, p = 0.7, list = FALSE)\n",
    "train_data <- balanced_data[trainIndex, ]\n",
    "test_data <- balanced_data[-trainIndex, ]"
   ]
  },
  {
   "cell_type": "code",
   "execution_count": 55,
   "metadata": {
    "vscode": {
     "languageId": "r"
    }
   },
   "outputs": [],
   "source": [
    "# Convert all columns to numeric where necessary\n",
    "balanced_data <- as.data.frame(lapply(balanced_data, function(col) {\n",
    "  if (is.factor(col) || is.character(col)) {\n",
    "    return(as.numeric(as.factor(col)))\n",
    "  } else {\n",
    "    return(col)\n",
    "  }\n",
    "}))\n",
    "\n",
    "# Ensure class levels are valid R variable names\n",
    "train_data$Electric.Vehicle.Type <- as.factor(make.names(train_data$Electric.Vehicle.Type))\n",
    "\n",
    "# Convert the data to matrix format required by XGBoost\n",
    "train_matrix <- as.matrix(train_data[, -which(names(train_data) == \"Electric.Vehicle.Type\")])\n",
    "train_label <- as.numeric(train_data$Electric.Vehicle.Type) - 1  # XGBoost requires labels starting from 0\n",
    "\n",
    "test_matrix <- as.matrix(test_data[, -which(names(test_data) == \"Electric.Vehicle.Type\")])\n",
    "test_label <- as.numeric(test_data$Electric.Vehicle.Type) - 1  # XGBoost requires labels starting from 0"
   ]
  },
  {
   "cell_type": "code",
   "execution_count": 56,
   "metadata": {
    "vscode": {
     "languageId": "r"
    }
   },
   "outputs": [],
   "source": [
    "# Convert data to DMatrix format for XGBoost\n",
    "dtrain <- xgb.DMatrix(data = train_matrix, label = train_label)\n",
    "dtest <- xgb.DMatrix(data = test_matrix, label = test_label)"
   ]
  },
  {
   "cell_type": "code",
   "execution_count": 57,
   "metadata": {
    "vscode": {
     "languageId": "r"
    }
   },
   "outputs": [],
   "source": [
    "\n",
    "# Define parameters for XGBoost\n",
    "params <- list(\n",
    "  booster = \"gbtree\",\n",
    "  objective = \"binary:logistic\",\n",
    "  eval_metric = \"auc\",\n",
    "  eta = 0.1,\n",
    "  max_depth = 6,\n",
    "  min_child_weight = 1,\n",
    "  subsample = 0.8,\n",
    "  colsample_bytree = 0.8\n",
    ")\n"
   ]
  },
  {
   "cell_type": "code",
   "execution_count": 58,
   "metadata": {
    "vscode": {
     "languageId": "r"
    }
   },
   "outputs": [],
   "source": [
    "# Set up cross-validation\n",
    "cv_control <- trainControl(\n",
    "  method = \"cv\", \n",
    "  number = 10,\n",
    "  summaryFunction = twoClassSummary,\n",
    "  classProbs = TRUE,\n",
    "  savePredictions = TRUE,\n",
    "  verboseIter = TRUE\n",
    ")\n"
   ]
  },
  {
   "cell_type": "code",
   "execution_count": 59,
   "metadata": {
    "vscode": {
     "languageId": "r"
    }
   },
   "outputs": [],
   "source": [
    "# Convert training data to data frame for caret\n",
    "train_data_df <- as.data.frame(train_data)\n",
    "train_data_df$Electric.Vehicle.Type <- as.factor(train_data_df$Electric.Vehicle.Type)"
   ]
  },
  {
   "cell_type": "code",
   "execution_count": 60,
   "metadata": {
    "vscode": {
     "languageId": "r"
    }
   },
   "outputs": [
    {
     "name": "stdout",
     "output_type": "stream",
     "text": [
      "+ Fold01: nrounds=100, max_depth=6, eta=0.1, gamma=0, colsample_bytree=0.8, min_child_weight=1, subsample=0.8 \n",
      "- Fold01: nrounds=100, max_depth=6, eta=0.1, gamma=0, colsample_bytree=0.8, min_child_weight=1, subsample=0.8 \n",
      "+ Fold02: nrounds=100, max_depth=6, eta=0.1, gamma=0, colsample_bytree=0.8, min_child_weight=1, subsample=0.8 \n",
      "- Fold02: nrounds=100, max_depth=6, eta=0.1, gamma=0, colsample_bytree=0.8, min_child_weight=1, subsample=0.8 \n",
      "+ Fold03: nrounds=100, max_depth=6, eta=0.1, gamma=0, colsample_bytree=0.8, min_child_weight=1, subsample=0.8 \n",
      "- Fold03: nrounds=100, max_depth=6, eta=0.1, gamma=0, colsample_bytree=0.8, min_child_weight=1, subsample=0.8 \n",
      "+ Fold04: nrounds=100, max_depth=6, eta=0.1, gamma=0, colsample_bytree=0.8, min_child_weight=1, subsample=0.8 \n",
      "- Fold04: nrounds=100, max_depth=6, eta=0.1, gamma=0, colsample_bytree=0.8, min_child_weight=1, subsample=0.8 \n",
      "+ Fold05: nrounds=100, max_depth=6, eta=0.1, gamma=0, colsample_bytree=0.8, min_child_weight=1, subsample=0.8 \n",
      "- Fold05: nrounds=100, max_depth=6, eta=0.1, gamma=0, colsample_bytree=0.8, min_child_weight=1, subsample=0.8 \n",
      "+ Fold06: nrounds=100, max_depth=6, eta=0.1, gamma=0, colsample_bytree=0.8, min_child_weight=1, subsample=0.8 \n",
      "- Fold06: nrounds=100, max_depth=6, eta=0.1, gamma=0, colsample_bytree=0.8, min_child_weight=1, subsample=0.8 \n",
      "+ Fold07: nrounds=100, max_depth=6, eta=0.1, gamma=0, colsample_bytree=0.8, min_child_weight=1, subsample=0.8 \n",
      "- Fold07: nrounds=100, max_depth=6, eta=0.1, gamma=0, colsample_bytree=0.8, min_child_weight=1, subsample=0.8 \n",
      "+ Fold08: nrounds=100, max_depth=6, eta=0.1, gamma=0, colsample_bytree=0.8, min_child_weight=1, subsample=0.8 \n",
      "- Fold08: nrounds=100, max_depth=6, eta=0.1, gamma=0, colsample_bytree=0.8, min_child_weight=1, subsample=0.8 \n",
      "+ Fold09: nrounds=100, max_depth=6, eta=0.1, gamma=0, colsample_bytree=0.8, min_child_weight=1, subsample=0.8 \n",
      "- Fold09: nrounds=100, max_depth=6, eta=0.1, gamma=0, colsample_bytree=0.8, min_child_weight=1, subsample=0.8 \n",
      "+ Fold10: nrounds=100, max_depth=6, eta=0.1, gamma=0, colsample_bytree=0.8, min_child_weight=1, subsample=0.8 \n",
      "- Fold10: nrounds=100, max_depth=6, eta=0.1, gamma=0, colsample_bytree=0.8, min_child_weight=1, subsample=0.8 \n",
      "Aggregating results\n",
      "Fitting final model on full training set\n"
     ]
    }
   ],
   "source": [
    "# Train the model with cross-validation using caret\n",
    "set.seed(123)  # For reproducibility\n",
    "xgb_model <- train(\n",
    "  Electric.Vehicle.Type ~ .,\n",
    "  data = train_data_df,\n",
    "  method = \"xgbTree\",\n",
    "  trControl = cv_control,\n",
    "  tuneGrid = expand.grid(\n",
    "    nrounds = 100,\n",
    "    max_depth = 6,\n",
    "    eta = 0.1,\n",
    "    gamma = 0,\n",
    "    colsample_bytree = 0.8,\n",
    "    min_child_weight = 1,\n",
    "    subsample = 0.8\n",
    "  ),\n",
    "  metric = \"ROC\"\n",
    ")"
   ]
  },
  {
   "cell_type": "code",
   "execution_count": 61,
   "metadata": {
    "vscode": {
     "languageId": "r"
    }
   },
   "outputs": [
    {
     "name": "stdout",
     "output_type": "stream",
     "text": [
      "[1] \"Confusion Matrix:\"\n",
      "         Actual\n",
      "Predicted     0     1\n",
      "        0 26875     3\n",
      "        1     2 26363\n"
     ]
    },
    {
     "name": "stderr",
     "output_type": "stream",
     "text": [
      "Setting levels: control = 0, case = 1\n",
      "\n",
      "Setting direction: controls < cases\n",
      "\n"
     ]
    },
    {
     "name": "stdout",
     "output_type": "stream",
     "text": [
      "[1] \"AUC: 0.999999926619899\"\n",
      "[1] \"Accuracy: 0.999906090941532\"\n",
      "[1] \"Precision: 0.999888384552422\"\n",
      "[1] \"Recall: 0.999925586933065\"\n",
      "[1] \"F1 Score: 0.999906985396707\"\n"
     ]
    }
   ],
   "source": [
    "\n",
    "# Evaluate the model on the test set\n",
    "# Make predictions\n",
    "pred_probs <- predict(xgb_model, newdata = test_data, type = \"prob\")[, 2]\n",
    "pred_labels <- ifelse(pred_probs > 0.5, 1, 0)\n",
    "\n",
    "# Confusion matrix\n",
    "confusion_matrix <- table(Predicted = pred_labels, Actual = test_label)\n",
    "print(\"Confusion Matrix:\")\n",
    "print(confusion_matrix)\n",
    "\n",
    "# Calculate AUC\n",
    "roc_curve <- roc(test_label, pred_probs)\n",
    "auc_value <- auc(roc_curve)\n",
    "print(paste(\"AUC:\", auc_value))\n",
    "\n",
    "# Create a confusion matrix object\n",
    "confusion_matrix_obj <- confusionMatrix(as.factor(pred_labels), as.factor(test_label))\n",
    "\n",
    "# Extract overall metrics\n",
    "accuracy <- confusion_matrix_obj$overall['Accuracy']\n",
    "\n",
    "# Extract class-specific metrics\n",
    "precision <- confusion_matrix_obj$byClass['Pos Pred Value']  # 'Precision' in confusionMatrix\n",
    "recall <- confusion_matrix_obj$byClass['Sensitivity']        # 'Recall' in confusionMatrix\n",
    "f1 <- confusion_matrix_obj$byClass['F1']\n",
    "\n",
    "# Create results list\n",
    "XGBoost_results <- list(\n",
    "  overall = list(\n",
    "    Accuracy = accuracy\n",
    "  ),\n",
    "  byClass = list(\n",
    "    Precision = precision,\n",
    "    Recall = recall,\n",
    "    F1 = f1\n",
    "  )\n",
    ")\n",
    "\n",
    "# Print XGBoost metrics\n",
    "print(paste(\"Accuracy:\", accuracy))\n",
    "print(paste(\"Precision:\", precision))\n",
    "print(paste(\"Recall:\", recall))\n",
    "print(paste(\"F1 Score:\", f1))"
   ]
  },
  {
   "cell_type": "code",
   "execution_count": 62,
   "metadata": {
    "vscode": {
     "languageId": "r"
    }
   },
   "outputs": [
    {
     "data": {
      "image/png": "[encoded data removed]",
      "text/plain": [
       "Plot with title \"ROC Curve for XGBoost Model\""
      ]
     },
     "metadata": {
      "image/png": {
       "height": 420,
       "width": 420
      }
     },
     "output_type": "display_data"
    }
   ],
   "source": [
    "# Plot ROC curve\n",
    "plot(roc_curve, main = \"ROC Curve for XGBoost Model\",\n",
    "     col = \"blue\", lwd = 2,\n",
    "     print.auc = TRUE, auc.polygon = TRUE,\n",
    "     grid = TRUE)\n",
    "\n",
    "# Add AUC value to the plot\n",
    "text(0.8, 0.2, paste(\"AUC =\", round(auc_value, 2)), col = \"red\")\n",
    "\n",
    "# Add legend\n",
    "legend(\"bottomright\", legend = c(\"XGBoost Model\"), col = c(\"blue\"), lwd = 2)"
   ]
  }
 ],
 "metadata": {
  "kernelspec": {
   "display_name": "R",
   "language": "R",
   "name": "ir"
  },
  "language_info": {
   "codemirror_mode": "r",
   "file_extension": ".r",
   "mimetype": "text/x-r-source",
   "name": "R",
   "pygments_lexer": "r",
   "version": "4.3.3"
  }
 },
 "nbformat": 4,
 "nbformat_minor": 2
}
