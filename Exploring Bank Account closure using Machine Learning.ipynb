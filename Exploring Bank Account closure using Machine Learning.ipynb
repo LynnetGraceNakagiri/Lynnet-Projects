{
  "cells": [
    {
      "cell_type": "code",
      "execution_count": 1,
      "metadata": {
        "colab": {
          "base_uri": "https://localhost:8080/"
        },
        "id": "a-pqPC_qoZ7r",
        "outputId": "0c565594-bf6f-4fd7-fb43-6a73faf172d9",
        "vscode": {
          "languageId": "r"
        }
      },
      "outputs": [],
      "source": [
        "# install.packages('rlang')\n",
        "# install.packages(\"caret\")\n",
        "# install.packages(\"dplyr\")\n",
        "# install.packages(\"ggplot2\")\n",
        "# install.packages(\"tidyr\")"
      ]
    },
    {
      "cell_type": "code",
      "execution_count": 2,
      "metadata": {
        "colab": {
          "base_uri": "https://localhost:8080/"
        },
        "id": "9rJ7TV1HPdhK",
        "outputId": "1c516b51-f956-429c-8ec4-66c3c205a572",
        "vscode": {
          "languageId": "r"
        }
      },
      "outputs": [
        {
          "name": "stderr",
          "output_type": "stream",
          "text": [
            "\n",
            "Attaching package: 'dplyr'\n",
            "\n",
            "\n",
            "The following objects are masked from 'package:stats':\n",
            "\n",
            "    filter, lag\n",
            "\n",
            "\n",
            "The following objects are masked from 'package:base':\n",
            "\n",
            "    intersect, setdiff, setequal, union\n",
            "\n",
            "\n"
          ]
        }
      ],
      "source": [
        "# Load the necessary libraries\n",
        "library(dplyr)\n",
        "library(ggplot2)"
      ]
    },
    {
      "cell_type": "code",
      "execution_count": 3,
      "metadata": {
        "id": "di0UqDQ2R075",
        "vscode": {
          "languageId": "r"
        }
      },
      "outputs": [],
      "source": [
        "# Read the dataset\n",
        "Bank_exit<- read.csv(\"Bank_exit_dataset.csv\")"
      ]
    },
    {
      "cell_type": "markdown",
      "metadata": {
        "id": "xbKo3XM5R-8i"
      },
      "source": [
        "**DATA UNDERSTANDING**"
      ]
    },
    {
      "cell_type": "code",
      "execution_count": 42,
      "metadata": {
        "colab": {
          "base_uri": "https://localhost:8080/",
          "height": 286
        },
        "id": "UXEgXzP-R7iK",
        "outputId": "6a7e31ce-9fdd-413a-84a1-202ff9b02c9f",
        "vscode": {
          "languageId": "r"
        }
      },
      "outputs": [
        {
          "data": {
            "text/html": [
              "<table class=\"dataframe\">\n",
              "<caption>A data.frame: 6 × 11</caption>\n",
              "<thead>\n",
              "\t<tr><th></th><th scope=col>CreditScore</th><th scope=col>Geography</th><th scope=col>Gender</th><th scope=col>Age</th><th scope=col>Tenure</th><th scope=col>Balance</th><th scope=col>NumOfProducts</th><th scope=col>HasCrCard</th><th scope=col>IsActiveMember</th><th scope=col>EstimatedSalary</th><th scope=col>Exited</th></tr>\n",
              "\t<tr><th></th><th scope=col>&lt;int&gt;</th><th scope=col>&lt;dbl&gt;</th><th scope=col>&lt;dbl&gt;</th><th scope=col>&lt;int&gt;</th><th scope=col>&lt;int&gt;</th><th scope=col>&lt;dbl&gt;</th><th scope=col>&lt;int&gt;</th><th scope=col>&lt;int&gt;</th><th scope=col>&lt;int&gt;</th><th scope=col>&lt;dbl&gt;</th><th scope=col>&lt;int&gt;</th></tr>\n",
              "</thead>\n",
              "<tbody>\n",
              "\t<tr><th scope=row>1</th><td>619</td><td>1</td><td>1</td><td>42</td><td>2</td><td>     0.00</td><td>1</td><td>1</td><td>1</td><td>101348.88</td><td>1</td></tr>\n",
              "\t<tr><th scope=row>2</th><td>608</td><td>3</td><td>1</td><td>41</td><td>1</td><td> 83807.86</td><td>1</td><td>0</td><td>1</td><td>112542.58</td><td>0</td></tr>\n",
              "\t<tr><th scope=row>3</th><td>502</td><td>1</td><td>1</td><td>42</td><td>8</td><td>159660.80</td><td>3</td><td>1</td><td>0</td><td>113931.57</td><td>1</td></tr>\n",
              "\t<tr><th scope=row>4</th><td>699</td><td>1</td><td>1</td><td>39</td><td>1</td><td>     0.00</td><td>2</td><td>0</td><td>0</td><td> 93826.63</td><td>0</td></tr>\n",
              "\t<tr><th scope=row>5</th><td>850</td><td>3</td><td>1</td><td>43</td><td>2</td><td>125510.82</td><td>1</td><td>1</td><td>1</td><td> 79084.10</td><td>0</td></tr>\n",
              "\t<tr><th scope=row>6</th><td>645</td><td>3</td><td>2</td><td>44</td><td>8</td><td>113755.78</td><td>2</td><td>1</td><td>0</td><td>149756.71</td><td>1</td></tr>\n",
              "</tbody>\n",
              "</table>\n"
            ],
            "text/latex": [
              "A data.frame: 6 × 11\n",
              "\\begin{tabular}{r|lllllllllll}\n",
              "  & CreditScore & Geography & Gender & Age & Tenure & Balance & NumOfProducts & HasCrCard & IsActiveMember & EstimatedSalary & Exited\\\\\n",
              "  & <int> & <dbl> & <dbl> & <int> & <int> & <dbl> & <int> & <int> & <int> & <dbl> & <int>\\\\\n",
              "\\hline\n",
              "\t1 & 619 & 1 & 1 & 42 & 2 &      0.00 & 1 & 1 & 1 & 101348.88 & 1\\\\\n",
              "\t2 & 608 & 3 & 1 & 41 & 1 &  83807.86 & 1 & 0 & 1 & 112542.58 & 0\\\\\n",
              "\t3 & 502 & 1 & 1 & 42 & 8 & 159660.80 & 3 & 1 & 0 & 113931.57 & 1\\\\\n",
              "\t4 & 699 & 1 & 1 & 39 & 1 &      0.00 & 2 & 0 & 0 &  93826.63 & 0\\\\\n",
              "\t5 & 850 & 3 & 1 & 43 & 2 & 125510.82 & 1 & 1 & 1 &  79084.10 & 0\\\\\n",
              "\t6 & 645 & 3 & 2 & 44 & 8 & 113755.78 & 2 & 1 & 0 & 149756.71 & 1\\\\\n",
              "\\end{tabular}\n"
            ],
            "text/markdown": [
              "\n",
              "A data.frame: 6 × 11\n",
              "\n",
              "| <!--/--> | CreditScore &lt;int&gt; | Geography &lt;dbl&gt; | Gender &lt;dbl&gt; | Age &lt;int&gt; | Tenure &lt;int&gt; | Balance &lt;dbl&gt; | NumOfProducts &lt;int&gt; | HasCrCard &lt;int&gt; | IsActiveMember &lt;int&gt; | EstimatedSalary &lt;dbl&gt; | Exited &lt;int&gt; |\n",
              "|---|---|---|---|---|---|---|---|---|---|---|---|\n",
              "| 1 | 619 | 1 | 1 | 42 | 2 |      0.00 | 1 | 1 | 1 | 101348.88 | 1 |\n",
              "| 2 | 608 | 3 | 1 | 41 | 1 |  83807.86 | 1 | 0 | 1 | 112542.58 | 0 |\n",
              "| 3 | 502 | 1 | 1 | 42 | 8 | 159660.80 | 3 | 1 | 0 | 113931.57 | 1 |\n",
              "| 4 | 699 | 1 | 1 | 39 | 1 |      0.00 | 2 | 0 | 0 |  93826.63 | 0 |\n",
              "| 5 | 850 | 3 | 1 | 43 | 2 | 125510.82 | 1 | 1 | 1 |  79084.10 | 0 |\n",
              "| 6 | 645 | 3 | 2 | 44 | 8 | 113755.78 | 2 | 1 | 0 | 149756.71 | 1 |\n",
              "\n"
            ],
            "text/plain": [
              "  CreditScore Geography Gender Age Tenure Balance   NumOfProducts HasCrCard\n",
              "1 619         1         1      42  2           0.00 1             1        \n",
              "2 608         3         1      41  1       83807.86 1             0        \n",
              "3 502         1         1      42  8      159660.80 3             1        \n",
              "4 699         1         1      39  1           0.00 2             0        \n",
              "5 850         3         1      43  2      125510.82 1             1        \n",
              "6 645         3         2      44  8      113755.78 2             1        \n",
              "  IsActiveMember EstimatedSalary Exited\n",
              "1 1              101348.88       1     \n",
              "2 1              112542.58       0     \n",
              "3 0              113931.57       1     \n",
              "4 0               93826.63       0     \n",
              "5 1               79084.10       0     \n",
              "6 0              149756.71       1     "
            ]
          },
          "metadata": {},
          "output_type": "display_data"
        }
      ],
      "source": [
        "# Display the first few rows of the dataset\n",
        "head(Bank_exit)"
      ]
    },
    {
      "cell_type": "code",
      "execution_count": 5,
      "metadata": {
        "colab": {
          "base_uri": "https://localhost:8080/",
          "height": 286
        },
        "id": "dKy4yhqISCb2",
        "outputId": "e2774769-6087-4d8d-dbbc-710c3c3dc22a",
        "vscode": {
          "languageId": "r"
        }
      },
      "outputs": [
        {
          "data": {
            "text/html": [
              "<table class=\"dataframe\">\n",
              "<caption>A data.frame: 6 × 14</caption>\n",
              "<thead>\n",
              "\t<tr><th></th><th scope=col>RowNumber</th><th scope=col>CustomerId</th><th scope=col>Surname</th><th scope=col>CreditScore</th><th scope=col>Geography</th><th scope=col>Gender</th><th scope=col>Age</th><th scope=col>Tenure</th><th scope=col>Balance</th><th scope=col>NumOfProducts</th><th scope=col>HasCrCard</th><th scope=col>IsActiveMember</th><th scope=col>EstimatedSalary</th><th scope=col>Exited</th></tr>\n",
              "\t<tr><th></th><th scope=col>&lt;int&gt;</th><th scope=col>&lt;int&gt;</th><th scope=col>&lt;chr&gt;</th><th scope=col>&lt;int&gt;</th><th scope=col>&lt;chr&gt;</th><th scope=col>&lt;chr&gt;</th><th scope=col>&lt;int&gt;</th><th scope=col>&lt;int&gt;</th><th scope=col>&lt;dbl&gt;</th><th scope=col>&lt;int&gt;</th><th scope=col>&lt;int&gt;</th><th scope=col>&lt;int&gt;</th><th scope=col>&lt;dbl&gt;</th><th scope=col>&lt;int&gt;</th></tr>\n",
              "</thead>\n",
              "<tbody>\n",
              "\t<tr><th scope=row>9995</th><td> 9995</td><td>15719294</td><td>Wood     </td><td>800</td><td>France </td><td>Female</td><td>29</td><td> 2</td><td>     0.00</td><td>2</td><td>0</td><td>0</td><td>167773.55</td><td>0</td></tr>\n",
              "\t<tr><th scope=row>9996</th><td> 9996</td><td>15606229</td><td>Obijiaku </td><td>771</td><td>France </td><td>Male  </td><td>39</td><td> 5</td><td>     0.00</td><td>2</td><td>1</td><td>0</td><td> 96270.64</td><td>0</td></tr>\n",
              "\t<tr><th scope=row>9997</th><td> 9997</td><td>15569892</td><td>Johnstone</td><td>516</td><td>France </td><td>Male  </td><td>35</td><td>10</td><td> 57369.61</td><td>1</td><td>1</td><td>1</td><td>101699.77</td><td>0</td></tr>\n",
              "\t<tr><th scope=row>9998</th><td> 9998</td><td>15584532</td><td>Liu      </td><td>709</td><td>France </td><td>Female</td><td>36</td><td> 7</td><td>     0.00</td><td>1</td><td>0</td><td>1</td><td> 42085.58</td><td>1</td></tr>\n",
              "\t<tr><th scope=row>9999</th><td> 9999</td><td>15682355</td><td>Sabbatini</td><td>772</td><td>Germany</td><td>Male  </td><td>42</td><td> 3</td><td> 75075.31</td><td>2</td><td>1</td><td>0</td><td> 92888.52</td><td>1</td></tr>\n",
              "\t<tr><th scope=row>10000</th><td>10000</td><td>15628319</td><td>Walker   </td><td>792</td><td>France </td><td>Female</td><td>28</td><td> 4</td><td>130142.79</td><td>1</td><td>1</td><td>0</td><td> 38190.78</td><td>0</td></tr>\n",
              "</tbody>\n",
              "</table>\n"
            ],
            "text/latex": [
              "A data.frame: 6 × 14\n",
              "\\begin{tabular}{r|llllllllllllll}\n",
              "  & RowNumber & CustomerId & Surname & CreditScore & Geography & Gender & Age & Tenure & Balance & NumOfProducts & HasCrCard & IsActiveMember & EstimatedSalary & Exited\\\\\n",
              "  & <int> & <int> & <chr> & <int> & <chr> & <chr> & <int> & <int> & <dbl> & <int> & <int> & <int> & <dbl> & <int>\\\\\n",
              "\\hline\n",
              "\t9995 &  9995 & 15719294 & Wood      & 800 & France  & Female & 29 &  2 &      0.00 & 2 & 0 & 0 & 167773.55 & 0\\\\\n",
              "\t9996 &  9996 & 15606229 & Obijiaku  & 771 & France  & Male   & 39 &  5 &      0.00 & 2 & 1 & 0 &  96270.64 & 0\\\\\n",
              "\t9997 &  9997 & 15569892 & Johnstone & 516 & France  & Male   & 35 & 10 &  57369.61 & 1 & 1 & 1 & 101699.77 & 0\\\\\n",
              "\t9998 &  9998 & 15584532 & Liu       & 709 & France  & Female & 36 &  7 &      0.00 & 1 & 0 & 1 &  42085.58 & 1\\\\\n",
              "\t9999 &  9999 & 15682355 & Sabbatini & 772 & Germany & Male   & 42 &  3 &  75075.31 & 2 & 1 & 0 &  92888.52 & 1\\\\\n",
              "\t10000 & 10000 & 15628319 & Walker    & 792 & France  & Female & 28 &  4 & 130142.79 & 1 & 1 & 0 &  38190.78 & 0\\\\\n",
              "\\end{tabular}\n"
            ],
            "text/markdown": [
              "\n",
              "A data.frame: 6 × 14\n",
              "\n",
              "| <!--/--> | RowNumber &lt;int&gt; | CustomerId &lt;int&gt; | Surname &lt;chr&gt; | CreditScore &lt;int&gt; | Geography &lt;chr&gt; | Gender &lt;chr&gt; | Age &lt;int&gt; | Tenure &lt;int&gt; | Balance &lt;dbl&gt; | NumOfProducts &lt;int&gt; | HasCrCard &lt;int&gt; | IsActiveMember &lt;int&gt; | EstimatedSalary &lt;dbl&gt; | Exited &lt;int&gt; |\n",
              "|---|---|---|---|---|---|---|---|---|---|---|---|---|---|---|\n",
              "| 9995 |  9995 | 15719294 | Wood      | 800 | France  | Female | 29 |  2 |      0.00 | 2 | 0 | 0 | 167773.55 | 0 |\n",
              "| 9996 |  9996 | 15606229 | Obijiaku  | 771 | France  | Male   | 39 |  5 |      0.00 | 2 | 1 | 0 |  96270.64 | 0 |\n",
              "| 9997 |  9997 | 15569892 | Johnstone | 516 | France  | Male   | 35 | 10 |  57369.61 | 1 | 1 | 1 | 101699.77 | 0 |\n",
              "| 9998 |  9998 | 15584532 | Liu       | 709 | France  | Female | 36 |  7 |      0.00 | 1 | 0 | 1 |  42085.58 | 1 |\n",
              "| 9999 |  9999 | 15682355 | Sabbatini | 772 | Germany | Male   | 42 |  3 |  75075.31 | 2 | 1 | 0 |  92888.52 | 1 |\n",
              "| 10000 | 10000 | 15628319 | Walker    | 792 | France  | Female | 28 |  4 | 130142.79 | 1 | 1 | 0 |  38190.78 | 0 |\n",
              "\n"
            ],
            "text/plain": [
              "      RowNumber CustomerId Surname   CreditScore Geography Gender Age Tenure\n",
              "9995   9995     15719294   Wood      800         France    Female 29   2    \n",
              "9996   9996     15606229   Obijiaku  771         France    Male   39   5    \n",
              "9997   9997     15569892   Johnstone 516         France    Male   35  10    \n",
              "9998   9998     15584532   Liu       709         France    Female 36   7    \n",
              "9999   9999     15682355   Sabbatini 772         Germany   Male   42   3    \n",
              "10000 10000     15628319   Walker    792         France    Female 28   4    \n",
              "      Balance   NumOfProducts HasCrCard IsActiveMember EstimatedSalary Exited\n",
              "9995       0.00 2             0         0              167773.55       0     \n",
              "9996       0.00 2             1         0               96270.64       0     \n",
              "9997   57369.61 1             1         1              101699.77       0     \n",
              "9998       0.00 1             0         1               42085.58       1     \n",
              "9999   75075.31 2             1         0               92888.52       1     \n",
              "10000 130142.79 1             1         0               38190.78       0     "
            ]
          },
          "metadata": {},
          "output_type": "display_data"
        }
      ],
      "source": [
        "tail(Bank_exit)"
      ]
    },
    {
      "cell_type": "code",
      "execution_count": 6,
      "metadata": {
        "colab": {
          "base_uri": "https://localhost:8080/"
        },
        "id": "MxMrW6WWSFrD",
        "outputId": "240dc622-003e-4e14-e02a-f54bd145b69b",
        "vscode": {
          "languageId": "r"
        }
      },
      "outputs": [
        {
          "name": "stdout",
          "output_type": "stream",
          "text": [
            "'data.frame':\t10000 obs. of  14 variables:\n",
            " $ RowNumber      : int  1 2 3 4 5 6 7 8 9 10 ...\n",
            " $ CustomerId     : int  15634602 15647311 15619304 15701354 15737888 15574012 15592531 15656148 15792365 15592389 ...\n",
            " $ Surname        : chr  \"Hargrave\" \"Hill\" \"Onio\" \"Boni\" ...\n",
            " $ CreditScore    : int  619 608 502 699 850 645 822 376 501 684 ...\n",
            " $ Geography      : chr  \"France\" \"Spain\" \"France\" \"France\" ...\n",
            " $ Gender         : chr  \"Female\" \"Female\" \"Female\" \"Female\" ...\n",
            " $ Age            : int  42 41 42 39 43 44 50 29 44 27 ...\n",
            " $ Tenure         : int  2 1 8 1 2 8 7 4 4 2 ...\n",
            " $ Balance        : num  0 83808 159661 0 125511 ...\n",
            " $ NumOfProducts  : int  1 1 3 2 1 2 2 4 2 1 ...\n",
            " $ HasCrCard      : int  1 0 1 0 1 1 1 1 0 1 ...\n",
            " $ IsActiveMember : int  1 1 0 0 1 0 1 0 1 1 ...\n",
            " $ EstimatedSalary: num  101349 112543 113932 93827 79084 ...\n",
            " $ Exited         : int  1 0 1 0 0 1 0 1 0 0 ...\n"
          ]
        }
      ],
      "source": [
        "str(Bank_exit)"
      ]
    },
    {
      "cell_type": "code",
      "execution_count": 7,
      "metadata": {
        "colab": {
          "base_uri": "https://localhost:8080/",
          "height": 528
        },
        "id": "mFEdA9VXSHmo",
        "outputId": "7ba2f15b-d6e0-4203-c079-9970a3de6d95",
        "vscode": {
          "languageId": "r"
        }
      },
      "outputs": [
        {
          "data": {
            "text/plain": [
              "   RowNumber       CustomerId         Surname           CreditScore   \n",
              " Min.   :    1   Min.   :15565701   Length:10000       Min.   :350.0  \n",
              " 1st Qu.: 2501   1st Qu.:15628528   Class :character   1st Qu.:584.0  \n",
              " Median : 5000   Median :15690738   Mode  :character   Median :652.0  \n",
              " Mean   : 5000   Mean   :15690941                      Mean   :650.5  \n",
              " 3rd Qu.: 7500   3rd Qu.:15753234                      3rd Qu.:718.0  \n",
              " Max.   :10000   Max.   :15815690                      Max.   :850.0  \n",
              "  Geography            Gender               Age            Tenure      \n",
              " Length:10000       Length:10000       Min.   :18.00   Min.   : 0.000  \n",
              " Class :character   Class :character   1st Qu.:32.00   1st Qu.: 3.000  \n",
              " Mode  :character   Mode  :character   Median :37.00   Median : 5.000  \n",
              "                                       Mean   :38.92   Mean   : 5.013  \n",
              "                                       3rd Qu.:44.00   3rd Qu.: 7.000  \n",
              "                                       Max.   :92.00   Max.   :10.000  \n",
              "    Balance       NumOfProducts    HasCrCard      IsActiveMember  \n",
              " Min.   :     0   Min.   :1.00   Min.   :0.0000   Min.   :0.0000  \n",
              " 1st Qu.:     0   1st Qu.:1.00   1st Qu.:0.0000   1st Qu.:0.0000  \n",
              " Median : 97199   Median :1.00   Median :1.0000   Median :1.0000  \n",
              " Mean   : 76486   Mean   :1.53   Mean   :0.7055   Mean   :0.5151  \n",
              " 3rd Qu.:127644   3rd Qu.:2.00   3rd Qu.:1.0000   3rd Qu.:1.0000  \n",
              " Max.   :250898   Max.   :4.00   Max.   :1.0000   Max.   :1.0000  \n",
              " EstimatedSalary         Exited      \n",
              " Min.   :    11.58   Min.   :0.0000  \n",
              " 1st Qu.: 51002.11   1st Qu.:0.0000  \n",
              " Median :100193.91   Median :0.0000  \n",
              " Mean   :100090.24   Mean   :0.2037  \n",
              " 3rd Qu.:149388.25   3rd Qu.:0.0000  \n",
              " Max.   :199992.48   Max.   :1.0000  "
            ]
          },
          "metadata": {},
          "output_type": "display_data"
        }
      ],
      "source": [
        "summary(Bank_exit)"
      ]
    },
    {
      "cell_type": "code",
      "execution_count": 8,
      "metadata": {
        "colab": {
          "base_uri": "https://localhost:8080/",
          "height": 34
        },
        "id": "x2SNyLZOSJ5E",
        "outputId": "892f5fb0-b940-44c9-a787-bf6ab28170aa",
        "vscode": {
          "languageId": "r"
        }
      },
      "outputs": [
        {
          "data": {
            "text/html": [
              "10000"
            ],
            "text/latex": [
              "10000"
            ],
            "text/markdown": [
              "10000"
            ],
            "text/plain": [
              "[1] 10000"
            ]
          },
          "metadata": {},
          "output_type": "display_data"
        }
      ],
      "source": [
        "nrow(Bank_exit)"
      ]
    },
    {
      "cell_type": "code",
      "execution_count": 9,
      "metadata": {
        "colab": {
          "base_uri": "https://localhost:8080/",
          "height": 34
        },
        "id": "K_vyO6j6SLcM",
        "outputId": "86932be8-69aa-4b32-e510-76a6ef18e108",
        "vscode": {
          "languageId": "r"
        }
      },
      "outputs": [
        {
          "data": {
            "text/html": [
              "14"
            ],
            "text/latex": [
              "14"
            ],
            "text/markdown": [
              "14"
            ],
            "text/plain": [
              "[1] 14"
            ]
          },
          "metadata": {},
          "output_type": "display_data"
        }
      ],
      "source": [
        "ncol(Bank_exit)"
      ]
    },
    {
      "cell_type": "code",
      "execution_count": 10,
      "metadata": {
        "colab": {
          "base_uri": "https://localhost:8080/",
          "height": 34
        },
        "id": "0SJgzrWMSOlh",
        "outputId": "656341b4-bd13-46b5-d273-14be1edc5bde",
        "vscode": {
          "languageId": "r"
        }
      },
      "outputs": [
        {
          "data": {
            "text/html": [
              "<style>\n",
              ".list-inline {list-style: none; margin:0; padding: 0}\n",
              ".list-inline>li {display: inline-block}\n",
              ".list-inline>li:not(:last-child)::after {content: \"\\00b7\"; padding: 0 .5ex}\n",
              "</style>\n",
              "<ol class=list-inline><li>'RowNumber'</li><li>'CustomerId'</li><li>'Surname'</li><li>'CreditScore'</li><li>'Geography'</li><li>'Gender'</li><li>'Age'</li><li>'Tenure'</li><li>'Balance'</li><li>'NumOfProducts'</li><li>'HasCrCard'</li><li>'IsActiveMember'</li><li>'EstimatedSalary'</li><li>'Exited'</li></ol>\n"
            ],
            "text/latex": [
              "\\begin{enumerate*}\n",
              "\\item 'RowNumber'\n",
              "\\item 'CustomerId'\n",
              "\\item 'Surname'\n",
              "\\item 'CreditScore'\n",
              "\\item 'Geography'\n",
              "\\item 'Gender'\n",
              "\\item 'Age'\n",
              "\\item 'Tenure'\n",
              "\\item 'Balance'\n",
              "\\item 'NumOfProducts'\n",
              "\\item 'HasCrCard'\n",
              "\\item 'IsActiveMember'\n",
              "\\item 'EstimatedSalary'\n",
              "\\item 'Exited'\n",
              "\\end{enumerate*}\n"
            ],
            "text/markdown": [
              "1. 'RowNumber'\n",
              "2. 'CustomerId'\n",
              "3. 'Surname'\n",
              "4. 'CreditScore'\n",
              "5. 'Geography'\n",
              "6. 'Gender'\n",
              "7. 'Age'\n",
              "8. 'Tenure'\n",
              "9. 'Balance'\n",
              "10. 'NumOfProducts'\n",
              "11. 'HasCrCard'\n",
              "12. 'IsActiveMember'\n",
              "13. 'EstimatedSalary'\n",
              "14. 'Exited'\n",
              "\n",
              "\n"
            ],
            "text/plain": [
              " [1] \"RowNumber\"       \"CustomerId\"      \"Surname\"         \"CreditScore\"    \n",
              " [5] \"Geography\"       \"Gender\"          \"Age\"             \"Tenure\"         \n",
              " [9] \"Balance\"         \"NumOfProducts\"   \"HasCrCard\"       \"IsActiveMember\" \n",
              "[13] \"EstimatedSalary\" \"Exited\"         "
            ]
          },
          "metadata": {},
          "output_type": "display_data"
        }
      ],
      "source": [
        "names(Bank_exit)"
      ]
    },
    {
      "cell_type": "code",
      "execution_count": 11,
      "metadata": {
        "colab": {
          "base_uri": "https://localhost:8080/",
          "height": 492
        },
        "id": "I57SQjtmSRSw",
        "outputId": "ac4301fb-6b1d-4a50-d0fa-36acd3234ca6",
        "vscode": {
          "languageId": "r"
        }
      },
      "outputs": [
        {
          "data": {
            "image/png": "[encoded data removed]",
            "text/plain": [
              "plot without title"
            ]
          },
          "metadata": {
            "image/png": {
              "height": 420,
              "width": 420
            }
          },
          "output_type": "display_data"
        }
      ],
      "source": [
        "library(tidyr)\n",
        "# Create histograms for each numeric feature\n",
        "Bank_exit %>%\n",
        "  select(where(is.numeric)) %>%\n",
        "  gather() %>%\n",
        "  ggplot(aes(value)) +\n",
        "  geom_histogram(bins = 30, fill = \"blue\", color = \"black\") +\n",
        "  facet_wrap(~key, scales = \"free_x\") +\n",
        "  theme_minimal() +\n",
        "  labs(title = \"Histograms of Numeric Features\", x = NULL, y = \"Frequency\")"
      ]
    },
    {
      "cell_type": "code",
      "execution_count": 12,
      "metadata": {
        "colab": {
          "base_uri": "https://localhost:8080/",
          "height": 437
        },
        "id": "I-GrJooeSYUk",
        "outputId": "0da76ceb-4304-4777-a91a-b8befee84659",
        "vscode": {
          "languageId": "r"
        }
      },
      "outputs": [
        {
          "data": {
            "image/png": "[encoded data removed]",
            "text/plain": [
              "plot without title"
            ]
          },
          "metadata": {
            "image/png": {
              "height": 420,
              "width": 420
            }
          },
          "output_type": "display_data"
        }
      ],
      "source": [
        "# Plotting the distribution of the target variable 'phishing'\n",
        "ggplot(Bank_exit, aes(x = factor(Exited))) +\n",
        "  geom_bar(fill = \"steelblue\", alpha = 0.7) +\n",
        "  labs(x = \"Bank_exit Category\", y = \"Count\", title = \"Distribution of Non-Bank_exit vs Bank_exit\") +\n",
        "  theme_minimal()"
      ]
    },
    {
      "cell_type": "code",
      "execution_count": 13,
      "metadata": {
        "id": "wGl1YNRESZbf",
        "vscode": {
          "languageId": "r"
        }
      },
      "outputs": [],
      "source": [
        "# Encoding using 'factor' function\n",
        "Bank_exit$Geography <- as.numeric(factor(Bank_exit$Geography))\n",
        "Bank_exit$Gender <- as.numeric(factor(Bank_exit$Gender))\n"
      ]
    },
    {
      "cell_type": "code",
      "execution_count": 14,
      "metadata": {
        "id": "qq5TWOR-TZIh",
        "vscode": {
          "languageId": "r"
        }
      },
      "outputs": [],
      "source": [
        "Bank_exit$Surname <- as.factor(Bank_exit$Surname)"
      ]
    },
    {
      "cell_type": "code",
      "execution_count": 15,
      "metadata": {
        "colab": {
          "base_uri": "https://localhost:8080/",
          "height": 286
        },
        "id": "87rv9ndQTrJL",
        "outputId": "4cf61d88-9125-4b8b-a253-49e434867bdd",
        "vscode": {
          "languageId": "r"
        }
      },
      "outputs": [
        {
          "data": {
            "text/html": [
              "<table class=\"dataframe\">\n",
              "<caption>A data.frame: 6 × 14</caption>\n",
              "<thead>\n",
              "\t<tr><th></th><th scope=col>RowNumber</th><th scope=col>CustomerId</th><th scope=col>Surname</th><th scope=col>CreditScore</th><th scope=col>Geography</th><th scope=col>Gender</th><th scope=col>Age</th><th scope=col>Tenure</th><th scope=col>Balance</th><th scope=col>NumOfProducts</th><th scope=col>HasCrCard</th><th scope=col>IsActiveMember</th><th scope=col>EstimatedSalary</th><th scope=col>Exited</th></tr>\n",
              "\t<tr><th></th><th scope=col>&lt;int&gt;</th><th scope=col>&lt;int&gt;</th><th scope=col>&lt;fct&gt;</th><th scope=col>&lt;int&gt;</th><th scope=col>&lt;dbl&gt;</th><th scope=col>&lt;dbl&gt;</th><th scope=col>&lt;int&gt;</th><th scope=col>&lt;int&gt;</th><th scope=col>&lt;dbl&gt;</th><th scope=col>&lt;int&gt;</th><th scope=col>&lt;int&gt;</th><th scope=col>&lt;int&gt;</th><th scope=col>&lt;dbl&gt;</th><th scope=col>&lt;int&gt;</th></tr>\n",
              "</thead>\n",
              "<tbody>\n",
              "\t<tr><th scope=row>1</th><td>1</td><td>15634602</td><td>Hargrave</td><td>619</td><td>1</td><td>1</td><td>42</td><td>2</td><td>     0.00</td><td>1</td><td>1</td><td>1</td><td>101348.88</td><td>1</td></tr>\n",
              "\t<tr><th scope=row>2</th><td>2</td><td>15647311</td><td>Hill    </td><td>608</td><td>3</td><td>1</td><td>41</td><td>1</td><td> 83807.86</td><td>1</td><td>0</td><td>1</td><td>112542.58</td><td>0</td></tr>\n",
              "\t<tr><th scope=row>3</th><td>3</td><td>15619304</td><td>Onio    </td><td>502</td><td>1</td><td>1</td><td>42</td><td>8</td><td>159660.80</td><td>3</td><td>1</td><td>0</td><td>113931.57</td><td>1</td></tr>\n",
              "\t<tr><th scope=row>4</th><td>4</td><td>15701354</td><td>Boni    </td><td>699</td><td>1</td><td>1</td><td>39</td><td>1</td><td>     0.00</td><td>2</td><td>0</td><td>0</td><td> 93826.63</td><td>0</td></tr>\n",
              "\t<tr><th scope=row>5</th><td>5</td><td>15737888</td><td>Mitchell</td><td>850</td><td>3</td><td>1</td><td>43</td><td>2</td><td>125510.82</td><td>1</td><td>1</td><td>1</td><td> 79084.10</td><td>0</td></tr>\n",
              "\t<tr><th scope=row>6</th><td>6</td><td>15574012</td><td>Chu     </td><td>645</td><td>3</td><td>2</td><td>44</td><td>8</td><td>113755.78</td><td>2</td><td>1</td><td>0</td><td>149756.71</td><td>1</td></tr>\n",
              "</tbody>\n",
              "</table>\n"
            ],
            "text/latex": [
              "A data.frame: 6 × 14\n",
              "\\begin{tabular}{r|llllllllllllll}\n",
              "  & RowNumber & CustomerId & Surname & CreditScore & Geography & Gender & Age & Tenure & Balance & NumOfProducts & HasCrCard & IsActiveMember & EstimatedSalary & Exited\\\\\n",
              "  & <int> & <int> & <fct> & <int> & <dbl> & <dbl> & <int> & <int> & <dbl> & <int> & <int> & <int> & <dbl> & <int>\\\\\n",
              "\\hline\n",
              "\t1 & 1 & 15634602 & Hargrave & 619 & 1 & 1 & 42 & 2 &      0.00 & 1 & 1 & 1 & 101348.88 & 1\\\\\n",
              "\t2 & 2 & 15647311 & Hill     & 608 & 3 & 1 & 41 & 1 &  83807.86 & 1 & 0 & 1 & 112542.58 & 0\\\\\n",
              "\t3 & 3 & 15619304 & Onio     & 502 & 1 & 1 & 42 & 8 & 159660.80 & 3 & 1 & 0 & 113931.57 & 1\\\\\n",
              "\t4 & 4 & 15701354 & Boni     & 699 & 1 & 1 & 39 & 1 &      0.00 & 2 & 0 & 0 &  93826.63 & 0\\\\\n",
              "\t5 & 5 & 15737888 & Mitchell & 850 & 3 & 1 & 43 & 2 & 125510.82 & 1 & 1 & 1 &  79084.10 & 0\\\\\n",
              "\t6 & 6 & 15574012 & Chu      & 645 & 3 & 2 & 44 & 8 & 113755.78 & 2 & 1 & 0 & 149756.71 & 1\\\\\n",
              "\\end{tabular}\n"
            ],
            "text/markdown": [
              "\n",
              "A data.frame: 6 × 14\n",
              "\n",
              "| <!--/--> | RowNumber &lt;int&gt; | CustomerId &lt;int&gt; | Surname &lt;fct&gt; | CreditScore &lt;int&gt; | Geography &lt;dbl&gt; | Gender &lt;dbl&gt; | Age &lt;int&gt; | Tenure &lt;int&gt; | Balance &lt;dbl&gt; | NumOfProducts &lt;int&gt; | HasCrCard &lt;int&gt; | IsActiveMember &lt;int&gt; | EstimatedSalary &lt;dbl&gt; | Exited &lt;int&gt; |\n",
              "|---|---|---|---|---|---|---|---|---|---|---|---|---|---|---|\n",
              "| 1 | 1 | 15634602 | Hargrave | 619 | 1 | 1 | 42 | 2 |      0.00 | 1 | 1 | 1 | 101348.88 | 1 |\n",
              "| 2 | 2 | 15647311 | Hill     | 608 | 3 | 1 | 41 | 1 |  83807.86 | 1 | 0 | 1 | 112542.58 | 0 |\n",
              "| 3 | 3 | 15619304 | Onio     | 502 | 1 | 1 | 42 | 8 | 159660.80 | 3 | 1 | 0 | 113931.57 | 1 |\n",
              "| 4 | 4 | 15701354 | Boni     | 699 | 1 | 1 | 39 | 1 |      0.00 | 2 | 0 | 0 |  93826.63 | 0 |\n",
              "| 5 | 5 | 15737888 | Mitchell | 850 | 3 | 1 | 43 | 2 | 125510.82 | 1 | 1 | 1 |  79084.10 | 0 |\n",
              "| 6 | 6 | 15574012 | Chu      | 645 | 3 | 2 | 44 | 8 | 113755.78 | 2 | 1 | 0 | 149756.71 | 1 |\n",
              "\n"
            ],
            "text/plain": [
              "  RowNumber CustomerId Surname  CreditScore Geography Gender Age Tenure\n",
              "1 1         15634602   Hargrave 619         1         1      42  2     \n",
              "2 2         15647311   Hill     608         3         1      41  1     \n",
              "3 3         15619304   Onio     502         1         1      42  8     \n",
              "4 4         15701354   Boni     699         1         1      39  1     \n",
              "5 5         15737888   Mitchell 850         3         1      43  2     \n",
              "6 6         15574012   Chu      645         3         2      44  8     \n",
              "  Balance   NumOfProducts HasCrCard IsActiveMember EstimatedSalary Exited\n",
              "1      0.00 1             1         1              101348.88       1     \n",
              "2  83807.86 1             0         1              112542.58       0     \n",
              "3 159660.80 3             1         0              113931.57       1     \n",
              "4      0.00 2             0         0               93826.63       0     \n",
              "5 125510.82 1             1         1               79084.10       0     \n",
              "6 113755.78 2             1         0              149756.71       1     "
            ]
          },
          "metadata": {},
          "output_type": "display_data"
        }
      ],
      "source": [
        "head(Bank_exit)"
      ]
    },
    {
      "cell_type": "code",
      "execution_count": 16,
      "metadata": {
        "colab": {
          "base_uri": "https://localhost:8080/",
          "height": 34
        },
        "id": "8Lp1RWcaT6wU",
        "outputId": "d614077a-507c-4d13-b17c-8f16d7a6bb30",
        "vscode": {
          "languageId": "r"
        }
      },
      "outputs": [
        {
          "data": {
            "text/html": [
              "0"
            ],
            "text/latex": [
              "0"
            ],
            "text/markdown": [
              "0"
            ],
            "text/plain": [
              "[1] 0"
            ]
          },
          "metadata": {},
          "output_type": "display_data"
        }
      ],
      "source": [
        "sum(colSums(is.na(Bank_exit)))"
      ]
    },
    {
      "cell_type": "code",
      "execution_count": 17,
      "metadata": {
        "colab": {
          "base_uri": "https://localhost:8080/",
          "height": 437
        },
        "id": "uuPsCZELT1QC",
        "outputId": "c83b0bcc-2fd5-43f4-adcd-ddb7aa71a1ad",
        "vscode": {
          "languageId": "r"
        }
      },
      "outputs": [
        {
          "data": {
            "image/png": "[encoded data removed]",
            "text/plain": [
              "plot without title"
            ]
          },
          "metadata": {
            "image/png": {
              "height": 420,
              "width": 420
            }
          },
          "output_type": "display_data"
        }
      ],
      "source": [
        "# Calculate the correlation matrix for between variables\n",
        "numeric_vars <- Bank_exit[, sapply(Bank_exit, is.numeric)]\n",
        "cor_matrix <- cor(numeric_vars)\n",
        "\n",
        "# Visualize the correlation matrix using a heatmap\n",
        "heatmap(cor_matrix, Rowv=NA, Colv=NA, col = heat.colors(256), scale=\"column\", margins=c(5,5))"
      ]
    },
    {
      "cell_type": "code",
      "execution_count": 18,
      "metadata": {
        "colab": {
          "base_uri": "https://localhost:8080/",
          "height": 69
        },
        "id": "RTxw2DDZUKXM",
        "outputId": "e2c38ce0-6bfe-46da-c8c9-77112371d80b",
        "vscode": {
          "languageId": "r"
        }
      },
      "outputs": [
        {
          "data": {
            "text/html": [
              "<style>\n",
              ".dl-inline {width: auto; margin:0; padding: 0}\n",
              ".dl-inline>dt, .dl-inline>dd {float: none; width: auto; display: inline-block}\n",
              ".dl-inline>dt::after {content: \":\\0020\"; padding-right: .5ex}\n",
              ".dl-inline>dt:not(:first-of-type) {padding-left: .5ex}\n",
              "</style><dl class=dl-inline><dt>Exited</dt><dd>1</dd><dt>Age</dt><dd>0.285323037835068</dd><dt>IsActiveMember</dt><dd>0.156128278188905</dd><dt>Balance</dt><dd>0.118532768771634</dd><dt>Gender</dt><dd>0.106512487673475</dd><dt>NumOfProducts</dt><dd>0.0478198649494406</dd><dt>Geography</dt><dd>0.035942954606537</dd><dt>CreditScore</dt><dd>0.0270935397546578</dd><dt>RowNumber</dt><dd>0.0165713714639847</dd><dt>Tenure</dt><dd>0.0140006122534446</dd><dt>EstimatedSalary</dt><dd>0.0120968610268447</dd><dt>HasCrCard</dt><dd>0.00713776560303902</dd><dt>CustomerId</dt><dd>0.00624798663781878</dd></dl>\n"
            ],
            "text/latex": [
              "\\begin{description*}\n",
              "\\item[Exited] 1\n",
              "\\item[Age] 0.285323037835068\n",
              "\\item[IsActiveMember] 0.156128278188905\n",
              "\\item[Balance] 0.118532768771634\n",
              "\\item[Gender] 0.106512487673475\n",
              "\\item[NumOfProducts] 0.0478198649494406\n",
              "\\item[Geography] 0.035942954606537\n",
              "\\item[CreditScore] 0.0270935397546578\n",
              "\\item[RowNumber] 0.0165713714639847\n",
              "\\item[Tenure] 0.0140006122534446\n",
              "\\item[EstimatedSalary] 0.0120968610268447\n",
              "\\item[HasCrCard] 0.00713776560303902\n",
              "\\item[CustomerId] 0.00624798663781878\n",
              "\\end{description*}\n"
            ],
            "text/markdown": [
              "Exited\n",
              ":   1Age\n",
              ":   0.285323037835068IsActiveMember\n",
              ":   0.156128278188905Balance\n",
              ":   0.118532768771634Gender\n",
              ":   0.106512487673475NumOfProducts\n",
              ":   0.0478198649494406Geography\n",
              ":   0.035942954606537CreditScore\n",
              ":   0.0270935397546578RowNumber\n",
              ":   0.0165713714639847Tenure\n",
              ":   0.0140006122534446EstimatedSalary\n",
              ":   0.0120968610268447HasCrCard\n",
              ":   0.00713776560303902CustomerId\n",
              ":   0.00624798663781878\n",
              "\n"
            ],
            "text/plain": [
              "         Exited             Age  IsActiveMember         Balance          Gender \n",
              "    1.000000000     0.285323038     0.156128278     0.118532769     0.106512488 \n",
              "  NumOfProducts       Geography     CreditScore       RowNumber          Tenure \n",
              "    0.047819865     0.035942955     0.027093540     0.016571371     0.014000612 \n",
              "EstimatedSalary       HasCrCard      CustomerId \n",
              "    0.012096861     0.007137766     0.006247987 "
            ]
          },
          "metadata": {},
          "output_type": "display_data"
        }
      ],
      "source": [
        "# Calculate the correlation of all predictors with the target variable('Exited')\n",
        "correlations <- cor(Bank_exit[, sapply(Bank_exit, is.numeric)])\n",
        "correlation_with_target <- abs(correlations[,'Exited'])\n",
        "\n",
        "# Sort features by their correlation with 'Exited'\n",
        "sorted_features <- sort(correlation_with_target, decreasing = TRUE)\n",
        "\n",
        "# Display the sorted features\n",
        "sorted_features"
      ]
    },
    {
      "cell_type": "code",
      "execution_count": 19,
      "metadata": {
        "vscode": {
          "languageId": "r"
        }
      },
      "outputs": [
        {
          "name": "stdout",
          "output_type": "stream",
          "text": [
            "         Exited             Age  IsActiveMember         Balance          Gender \n",
            "    1.000000000     0.285323038     0.156128278     0.118532769     0.106512488 \n",
            "  NumOfProducts       Geography     CreditScore       RowNumber          Tenure \n",
            "    0.047819865     0.035942955     0.027093540     0.016571371     0.014000612 \n",
            "EstimatedSalary       HasCrCard      CustomerId \n",
            "    0.012096861     0.007137766     0.006247987 \n"
          ]
        }
      ],
      "source": [
        "print (sorted_features)"
      ]
    },
    {
      "cell_type": "code",
      "execution_count": 20,
      "metadata": {
        "colab": {
          "base_uri": "https://localhost:8080/",
          "height": 52
        },
        "id": "v02xCaczUWnD",
        "outputId": "a77e0391-3841-41cf-ec68-c6ae27d00605",
        "vscode": {
          "languageId": "r"
        }
      },
      "outputs": [
        {
          "data": {
            "text/html": [
              "<style>\n",
              ".dl-inline {width: auto; margin:0; padding: 0}\n",
              ".dl-inline>dt, .dl-inline>dd {float: none; width: auto; display: inline-block}\n",
              ".dl-inline>dt::after {content: \":\\0020\"; padding-right: .5ex}\n",
              ".dl-inline>dt:not(:first-of-type) {padding-left: .5ex}\n",
              "</style><dl class=dl-inline><dt>RowNumber</dt><dd>0</dd><dt>CustomerId</dt><dd>0</dd><dt>CreditScore</dt><dd>15</dd><dt>Geography</dt><dd>0</dd><dt>Gender</dt><dd>0</dd><dt>Age</dt><dd>359</dd><dt>Tenure</dt><dd>0</dd><dt>Balance</dt><dd>0</dd><dt>NumOfProducts</dt><dd>60</dd><dt>HasCrCard</dt><dd>0</dd><dt>IsActiveMember</dt><dd>0</dd><dt>EstimatedSalary</dt><dd>0</dd><dt>Exited</dt><dd>2037</dd></dl>\n"
            ],
            "text/latex": [
              "\\begin{description*}\n",
              "\\item[RowNumber] 0\n",
              "\\item[CustomerId] 0\n",
              "\\item[CreditScore] 15\n",
              "\\item[Geography] 0\n",
              "\\item[Gender] 0\n",
              "\\item[Age] 359\n",
              "\\item[Tenure] 0\n",
              "\\item[Balance] 0\n",
              "\\item[NumOfProducts] 60\n",
              "\\item[HasCrCard] 0\n",
              "\\item[IsActiveMember] 0\n",
              "\\item[EstimatedSalary] 0\n",
              "\\item[Exited] 2037\n",
              "\\end{description*}\n"
            ],
            "text/markdown": [
              "RowNumber\n",
              ":   0CustomerId\n",
              ":   0CreditScore\n",
              ":   15Geography\n",
              ":   0Gender\n",
              ":   0Age\n",
              ":   359Tenure\n",
              ":   0Balance\n",
              ":   0NumOfProducts\n",
              ":   60HasCrCard\n",
              ":   0IsActiveMember\n",
              ":   0EstimatedSalary\n",
              ":   0Exited\n",
              ":   2037\n",
              "\n"
            ],
            "text/plain": [
              "      RowNumber      CustomerId     CreditScore       Geography          Gender \n",
              "              0               0              15               0               0 \n",
              "            Age          Tenure         Balance   NumOfProducts       HasCrCard \n",
              "            359               0               0              60               0 \n",
              " IsActiveMember EstimatedSalary          Exited \n",
              "              0               0            2037 "
            ]
          },
          "metadata": {},
          "output_type": "display_data"
        }
      ],
      "source": [
        "# Check for outliers using the IQR method\n",
        "# Identify numeric columns\n",
        "numeric_columns <- sapply(Bank_exit, is.numeric)\n",
        "\n",
        "# Check for outliers using the IQR method\n",
        "outliers <- sapply(Bank_exit[numeric_columns], function(x) {\n",
        "  q75 <- quantile(x, 0.75, na.rm = TRUE)\n",
        "  q25 <- quantile(x, 0.25, na.rm = TRUE)\n",
        "  iqr <- q75 - q25\n",
        "  sum(x < (q25 - 1.5 * iqr) | x > (q75 + 1.5 * iqr))\n",
        "})\n",
        "outliers"
      ]
    },
    {
      "cell_type": "code",
      "execution_count": 21,
      "metadata": {
        "vscode": {
          "languageId": "r"
        }
      },
      "outputs": [
        {
          "data": {
            "image/png": "[encoded data removed]",
            "text/plain": [
              "Plot with title \"Box-Plot of HasCrCard\""
            ]
          },
          "metadata": {
            "image/png": {
              "height": 420,
              "width": 420
            }
          },
          "output_type": "display_data"
        },
        {
          "data": {
            "image/png": "[encoded data removed]",
            "text/plain": [
              "Plot with title \"Box-Plot of EstimatedSalary\""
            ]
          },
          "metadata": {
            "image/png": {
              "height": 420,
              "width": 420
            }
          },
          "output_type": "display_data"
        }
      ],
      "source": [
        "        # BOX PLOT FOR NUMERICAL VARIABLES\n",
        "\n",
        "par(mfrow=c(2,3)) # Plotting area setup\n",
        "\n",
        "       # BOX-PLOT\n",
        "boxplot(Bank_exit$CreditScore, main=\"Box-Plot of CreditScore\", xlab=\"CreditScore\")  # Box-Plot for 'CreditScore'\n",
        "boxplot(Bank_exit$Age, main=\"Box-Plot of Age\", xlab=\"Age\")  # Box-Plot for 'Age'\n",
        "boxplot(Bank_exit$Tenure, main=\"Box-Plot of Tenure\", xlab=\"Tenure \")  # Box-Plot for 'Tenure'\n",
        "boxplot(Bank_exit$Balance, main=\"Box-Plot of Balance\", xlab=\"Balance\")  # Box-Plot for 'Balance'\n",
        "boxplot(Bank_exit$NumOfProducts, main=\"Box-Plot of NumOfProducts\", xlab=\"NumOfProducts\")  # Box-Plot for 'NumOfProducts'\n",
        "boxplot(Bank_exit$HasCrCard , main=\"Box-Plot of HasCrCard\", xlab=\"HasCrCard\")  # Box-Plot for 'HasCrCard'\n",
        "boxplot(Bank_exit$EstimatedSalary, main=\"Box-Plot of EstimatedSalary\", xlab=\"EstimatedSalary\")  # Box-Plot for 'EstimatedSalary'\n"
      ]
    },
    {
      "cell_type": "code",
      "execution_count": 22,
      "metadata": {
        "vscode": {
          "languageId": "r"
        }
      },
      "outputs": [
        {
          "name": "stdout",
          "output_type": "stream",
          "text": [
            "Original data dimensions: 9582 14"
          ]
        },
        {
          "data": {
            "image/png": "[encoded data removed]",
            "text/plain": [
              "Plot with title \"Box-Plot of NumOfProducts\""
            ]
          },
          "metadata": {
            "image/png": {
              "height": 420,
              "width": 420
            }
          },
          "output_type": "display_data"
        }
      ],
      "source": [
        "# REMOVE OUTLIERS\n",
        " # Function to Remove Outliers\n",
        "rm_out <- function(df, v) {\n",
        "  Q1 <- quantile(df[[v]], 0.25, na.rm = TRUE)\n",
        "  Q3 <- quantile(df[[v]], 0.75, na.rm = TRUE)\n",
        "  IQR <- Q3 - Q1\n",
        "  lb <- Q1 - 1.5 * IQR\n",
        "  ub <- Q3 + 1.5 * IQR\n",
        "  df[df[[v]] >= lb & df[[v]] <= ub, ]\n",
        "}\n",
        "\n",
        "# Variables list\n",
        "vars <- c(\"Age\", \"NumOfProducts\")\n",
        "\n",
        "# Removing outliers from all specified variables and storing in new dataset\n",
        "Bank_exit <- Bank_exit\n",
        "for(v in vars) {\n",
        " Bank_exit <- rm_out(Bank_exit, v)\n",
        "}\n",
        "\n",
        "# Dimensions of the original and cleaned data frames\n",
        "cat(\"Original data dimensions:\", dim(Bank_exit))\n",
        "\n",
        "par(mfrow=c(2,3)) # Plotting area setup\n",
        "\n",
        "       # BOX-PLOT\n",
        "boxplot(Bank_exit$Age, main=\"Box-Plot of Age\", xlab=\"Age\")  # Box-Plot for 'Age'\n",
        "boxplot(Bank_exit$NumOfProducts, main=\"Box-Plot of NumOfProducts\", xlab=\"NumOfProducts\")  # Box-Plot for 'NumOfProducts'\n"
      ]
    },
    {
      "cell_type": "code",
      "execution_count": 23,
      "metadata": {
        "colab": {
          "base_uri": "https://localhost:8080/",
          "height": 72
        },
        "id": "Ql3icSEtVBqu",
        "outputId": "e6285ab2-63ec-492a-9fe9-7b02db345418",
        "vscode": {
          "languageId": "r"
        }
      },
      "outputs": [
        {
          "data": {
            "text/plain": [
              "\n",
              "   0    1 \n",
              "7677 1905 "
            ]
          },
          "metadata": {},
          "output_type": "display_data"
        }
      ],
      "source": [
        "# Summary of the target variable\n",
        "Exited_summary <- table(Bank_exit$Exited)\n",
        "Exited_summary"
      ]
    },
    {
      "cell_type": "code",
      "execution_count": 24,
      "metadata": {
        "vscode": {
          "languageId": "r"
        }
      },
      "outputs": [],
      "source": [
        "# Feature Selection\n",
        "Bank_exit <- Bank_exit %>% select(-RowNumber, -Surname, -CustomerId)"
      ]
    },
    {
      "cell_type": "code",
      "execution_count": 25,
      "metadata": {
        "id": "K4SLGhlQVPw-",
        "vscode": {
          "languageId": "r"
        }
      },
      "outputs": [],
      "source": [
        "# Data Preprocessing\n",
        "remove_Exited <- subset(Bank_exit,  select = -c(Exited) )"
      ]
    },
    {
      "cell_type": "code",
      "execution_count": 26,
      "metadata": {
        "id": "XcNDQBldVXAY",
        "vscode": {
          "languageId": "r"
        }
      },
      "outputs": [
        {
          "name": "stderr",
          "output_type": "stream",
          "text": [
            "Loading required package: lattice\n",
            "\n"
          ]
        }
      ],
      "source": [
        "library(caret)\n",
        "# Normalize numerical features\n",
        "preprocessor <- preProcess(remove_Exited, method = c('center', 'scale'))\n",
        "Bank_exit_final <- predict(preprocessor, remove_Exited)"
      ]
    },
    {
      "cell_type": "code",
      "execution_count": 27,
      "metadata": {
        "colab": {
          "base_uri": "https://localhost:8080/",
          "height": 601
        },
        "id": "H1GyOFerVbVY",
        "outputId": "e2e71eee-1488-443e-94f1-c07cbd547430",
        "vscode": {
          "languageId": "r"
        }
      },
      "outputs": [
        {
          "data": {
            "text/plain": [
              "  CreditScore         Geography          Gender             Age          \n",
              " Min.   :-3.10633   Min.   :-0.902   Min.   :-1.0992   Min.   :-2.24703  \n",
              " 1st Qu.:-0.69589   1st Qu.:-0.902   1st Qu.:-1.0992   1st Qu.:-0.65383  \n",
              " Median : 0.01793   Median :-0.902   Median : 0.9097   Median :-0.08483  \n",
              " Mean   : 0.00000   Mean   : 0.000   Mean   : 0.0000   Mean   : 0.00000  \n",
              " 3rd Qu.: 0.69038   3rd Qu.: 0.306   3rd Qu.: 0.9097   3rd Qu.: 0.59797  \n",
              " Max.   : 2.06629   Max.   : 1.514   Max.   : 0.9097   Max.   : 2.76016  \n",
              "     Tenure             Balance        NumOfProducts       HasCrCard      \n",
              " Min.   :-1.735717   Min.   :-1.2247   Min.   :-0.9376   Min.   :-1.5473  \n",
              " 1st Qu.:-0.697191   1st Qu.:-1.2247   1st Qu.:-0.9376   1st Qu.:-1.5473  \n",
              " Median :-0.004841   Median : 0.3311   Median :-0.9376   Median : 0.6462  \n",
              " Mean   : 0.000000   Mean   : 0.0000   Mean   : 0.0000   Mean   : 0.0000  \n",
              " 3rd Qu.: 0.687509   3rd Qu.: 0.8201   3rd Qu.: 0.8803   3rd Qu.: 0.6462  \n",
              " Max.   : 1.726034   Max.   : 2.7948   Max.   : 2.6982   Max.   : 0.6462  \n",
              " IsActiveMember    EstimatedSalary     \n",
              " Min.   :-1.0066   Min.   :-1.7410726  \n",
              " 1st Qu.:-1.0066   1st Qu.:-0.8525845  \n",
              " Median : 0.9933   Median : 0.0007353  \n",
              " Mean   : 0.0000   Mean   : 0.0000000  \n",
              " 3rd Qu.: 0.9933   3rd Qu.: 0.8579257  \n",
              " Max.   : 0.9933   Max.   : 1.7358709  "
            ]
          },
          "metadata": {},
          "output_type": "display_data"
        }
      ],
      "source": [
        "summary(Bank_exit_final)"
      ]
    },
    {
      "cell_type": "code",
      "execution_count": 28,
      "metadata": {
        "id": "j6pwWdMBVd6o",
        "vscode": {
          "languageId": "r"
        }
      },
      "outputs": [],
      "source": [
        "Bank_exit_final$Exited<- Bank_exit$Exited"
      ]
    },
    {
      "cell_type": "code",
      "execution_count": 29,
      "metadata": {
        "colab": {
          "base_uri": "https://localhost:8080/",
          "height": 72
        },
        "id": "V8H3SZcVVgOn",
        "outputId": "8f618944-8206-4559-a03c-c5afc9f0764f",
        "vscode": {
          "languageId": "r"
        }
      },
      "outputs": [
        {
          "data": {
            "text/plain": [
              "\n",
              "   0    1 \n",
              "7677 1905 "
            ]
          },
          "metadata": {},
          "output_type": "display_data"
        }
      ],
      "source": [
        "Bank_exit_summary <- table(Bank_exit_final$Exited)\n",
        "Bank_exit_summary"
      ]
    },
    {
      "cell_type": "code",
      "execution_count": 30,
      "metadata": {
        "colab": {
          "base_uri": "https://localhost:8080/",
          "height": 306
        },
        "id": "yDooDlZcVpVM",
        "outputId": "0b0ca918-d61f-4e6e-814f-21bea395352e",
        "vscode": {
          "languageId": "r"
        }
      },
      "outputs": [
        {
          "data": {
            "text/html": [
              "<table class=\"dataframe\">\n",
              "<caption>A data.frame: 6 × 11</caption>\n",
              "<thead>\n",
              "\t<tr><th></th><th scope=col>CreditScore</th><th scope=col>Geography</th><th scope=col>Gender</th><th scope=col>Age</th><th scope=col>Tenure</th><th scope=col>Balance</th><th scope=col>NumOfProducts</th><th scope=col>HasCrCard</th><th scope=col>IsActiveMember</th><th scope=col>EstimatedSalary</th><th scope=col>Exited</th></tr>\n",
              "\t<tr><th></th><th scope=col>&lt;dbl&gt;</th><th scope=col>&lt;dbl&gt;</th><th scope=col>&lt;dbl&gt;</th><th scope=col>&lt;dbl&gt;</th><th scope=col>&lt;dbl&gt;</th><th scope=col>&lt;dbl&gt;</th><th scope=col>&lt;dbl&gt;</th><th scope=col>&lt;dbl&gt;</th><th scope=col>&lt;dbl&gt;</th><th scope=col>&lt;dbl&gt;</th><th scope=col>&lt;int&gt;</th></tr>\n",
              "</thead>\n",
              "<tbody>\n",
              "\t<tr><th scope=row>1</th><td>-0.32345902</td><td>-0.9019853</td><td>-1.0991892</td><td>0.4841654</td><td>-1.043366</td><td>-1.2246773</td><td>-0.9376027</td><td> 0.6462366</td><td> 0.9932911</td><td> 0.02081598</td><td>1</td></tr>\n",
              "\t<tr><th scope=row>2</th><td>-0.43725674</td><td> 1.5138982</td><td>-1.0991892</td><td>0.3703657</td><td>-1.389542</td><td> 0.1179531</td><td>-0.9376027</td><td>-1.5472594</td><td> 0.9932911</td><td> 0.21543388</td><td>0</td></tr>\n",
              "\t<tr><th scope=row>3</th><td>-1.53385295</td><td>-0.9019853</td><td>-1.0991892</td><td>0.4841654</td><td> 1.033684</td><td> 1.3331429</td><td> 2.6982165</td><td> 0.6462366</td><td>-1.0066491</td><td> 0.23958338</td><td>1</td></tr>\n",
              "\t<tr><th scope=row>4</th><td> 0.50416076</td><td>-0.9019853</td><td>-1.0991892</td><td>0.1427663</td><td>-1.389542</td><td>-1.2246773</td><td> 0.8803069</td><td>-1.5472594</td><td>-1.0066491</td><td>-0.10996870</td><td>0</td></tr>\n",
              "\t<tr><th scope=row>5</th><td> 2.06629309</td><td> 1.5138982</td><td>-1.0991892</td><td>0.5979651</td><td>-1.043366</td><td> 0.7860486</td><td>-0.9376027</td><td> 0.6462366</td><td> 0.9932911</td><td>-0.36628790</td><td>0</td></tr>\n",
              "\t<tr><th scope=row>6</th><td>-0.05448259</td><td> 1.5138982</td><td> 0.9096666</td><td>0.7117648</td><td> 1.033684</td><td> 0.5977289</td><td> 0.8803069</td><td> 0.6462366</td><td>-1.0066491</td><td> 0.86245281</td><td>1</td></tr>\n",
              "</tbody>\n",
              "</table>\n"
            ],
            "text/latex": [
              "A data.frame: 6 × 11\n",
              "\\begin{tabular}{r|lllllllllll}\n",
              "  & CreditScore & Geography & Gender & Age & Tenure & Balance & NumOfProducts & HasCrCard & IsActiveMember & EstimatedSalary & Exited\\\\\n",
              "  & <dbl> & <dbl> & <dbl> & <dbl> & <dbl> & <dbl> & <dbl> & <dbl> & <dbl> & <dbl> & <int>\\\\\n",
              "\\hline\n",
              "\t1 & -0.32345902 & -0.9019853 & -1.0991892 & 0.4841654 & -1.043366 & -1.2246773 & -0.9376027 &  0.6462366 &  0.9932911 &  0.02081598 & 1\\\\\n",
              "\t2 & -0.43725674 &  1.5138982 & -1.0991892 & 0.3703657 & -1.389542 &  0.1179531 & -0.9376027 & -1.5472594 &  0.9932911 &  0.21543388 & 0\\\\\n",
              "\t3 & -1.53385295 & -0.9019853 & -1.0991892 & 0.4841654 &  1.033684 &  1.3331429 &  2.6982165 &  0.6462366 & -1.0066491 &  0.23958338 & 1\\\\\n",
              "\t4 &  0.50416076 & -0.9019853 & -1.0991892 & 0.1427663 & -1.389542 & -1.2246773 &  0.8803069 & -1.5472594 & -1.0066491 & -0.10996870 & 0\\\\\n",
              "\t5 &  2.06629309 &  1.5138982 & -1.0991892 & 0.5979651 & -1.043366 &  0.7860486 & -0.9376027 &  0.6462366 &  0.9932911 & -0.36628790 & 0\\\\\n",
              "\t6 & -0.05448259 &  1.5138982 &  0.9096666 & 0.7117648 &  1.033684 &  0.5977289 &  0.8803069 &  0.6462366 & -1.0066491 &  0.86245281 & 1\\\\\n",
              "\\end{tabular}\n"
            ],
            "text/markdown": [
              "\n",
              "A data.frame: 6 × 11\n",
              "\n",
              "| <!--/--> | CreditScore &lt;dbl&gt; | Geography &lt;dbl&gt; | Gender &lt;dbl&gt; | Age &lt;dbl&gt; | Tenure &lt;dbl&gt; | Balance &lt;dbl&gt; | NumOfProducts &lt;dbl&gt; | HasCrCard &lt;dbl&gt; | IsActiveMember &lt;dbl&gt; | EstimatedSalary &lt;dbl&gt; | Exited &lt;int&gt; |\n",
              "|---|---|---|---|---|---|---|---|---|---|---|---|\n",
              "| 1 | -0.32345902 | -0.9019853 | -1.0991892 | 0.4841654 | -1.043366 | -1.2246773 | -0.9376027 |  0.6462366 |  0.9932911 |  0.02081598 | 1 |\n",
              "| 2 | -0.43725674 |  1.5138982 | -1.0991892 | 0.3703657 | -1.389542 |  0.1179531 | -0.9376027 | -1.5472594 |  0.9932911 |  0.21543388 | 0 |\n",
              "| 3 | -1.53385295 | -0.9019853 | -1.0991892 | 0.4841654 |  1.033684 |  1.3331429 |  2.6982165 |  0.6462366 | -1.0066491 |  0.23958338 | 1 |\n",
              "| 4 |  0.50416076 | -0.9019853 | -1.0991892 | 0.1427663 | -1.389542 | -1.2246773 |  0.8803069 | -1.5472594 | -1.0066491 | -0.10996870 | 0 |\n",
              "| 5 |  2.06629309 |  1.5138982 | -1.0991892 | 0.5979651 | -1.043366 |  0.7860486 | -0.9376027 |  0.6462366 |  0.9932911 | -0.36628790 | 0 |\n",
              "| 6 | -0.05448259 |  1.5138982 |  0.9096666 | 0.7117648 |  1.033684 |  0.5977289 |  0.8803069 |  0.6462366 | -1.0066491 |  0.86245281 | 1 |\n",
              "\n"
            ],
            "text/plain": [
              "  CreditScore Geography  Gender     Age       Tenure    Balance   \n",
              "1 -0.32345902 -0.9019853 -1.0991892 0.4841654 -1.043366 -1.2246773\n",
              "2 -0.43725674  1.5138982 -1.0991892 0.3703657 -1.389542  0.1179531\n",
              "3 -1.53385295 -0.9019853 -1.0991892 0.4841654  1.033684  1.3331429\n",
              "4  0.50416076 -0.9019853 -1.0991892 0.1427663 -1.389542 -1.2246773\n",
              "5  2.06629309  1.5138982 -1.0991892 0.5979651 -1.043366  0.7860486\n",
              "6 -0.05448259  1.5138982  0.9096666 0.7117648  1.033684  0.5977289\n",
              "  NumOfProducts HasCrCard  IsActiveMember EstimatedSalary Exited\n",
              "1 -0.9376027     0.6462366  0.9932911      0.02081598     1     \n",
              "2 -0.9376027    -1.5472594  0.9932911      0.21543388     0     \n",
              "3  2.6982165     0.6462366 -1.0066491      0.23958338     1     \n",
              "4  0.8803069    -1.5472594 -1.0066491     -0.10996870     0     \n",
              "5 -0.9376027     0.6462366  0.9932911     -0.36628790     0     \n",
              "6  0.8803069     0.6462366 -1.0066491      0.86245281     1     "
            ]
          },
          "metadata": {},
          "output_type": "display_data"
        }
      ],
      "source": [
        "head(Bank_exit_final)"
      ]
    },
    {
      "cell_type": "markdown",
      "metadata": {
        "id": "HXcC4RnsV8zb"
      },
      "source": [
        "**DATA SPLITTING**"
      ]
    },
    {
      "cell_type": "code",
      "execution_count": 31,
      "metadata": {
        "colab": {
          "base_uri": "https://localhost:8080/",
          "height": 114
        },
        "id": "wMDw1ad0V30r",
        "outputId": "e837184f-14b8-4108-f063-c7110fc46677",
        "vscode": {
          "languageId": "r"
        }
      },
      "outputs": [
        {
          "data": {
            "text/html": [
              "<dl>\n",
              "\t<dt>$training_data</dt>\n",
              "\t\t<dd><style>\n",
              ".list-inline {list-style: none; margin:0; padding: 0}\n",
              ".list-inline>li {display: inline-block}\n",
              ".list-inline>li:not(:last-child)::after {content: \"\\00b7\"; padding: 0 .5ex}\n",
              "</style>\n",
              "<ol class=list-inline><li>6708</li><li>11</li></ol>\n",
              "</dd>\n",
              "\t<dt>$testing_data</dt>\n",
              "\t\t<dd><style>\n",
              ".list-inline {list-style: none; margin:0; padding: 0}\n",
              ".list-inline>li {display: inline-block}\n",
              ".list-inline>li:not(:last-child)::after {content: \"\\00b7\"; padding: 0 .5ex}\n",
              "</style>\n",
              "<ol class=list-inline><li>2874</li><li>11</li></ol>\n",
              "</dd>\n",
              "</dl>\n"
            ],
            "text/latex": [
              "\\begin{description}\n",
              "\\item[\\$training\\_data] \\begin{enumerate*}\n",
              "\\item 6708\n",
              "\\item 11\n",
              "\\end{enumerate*}\n",
              "\n",
              "\\item[\\$testing\\_data] \\begin{enumerate*}\n",
              "\\item 2874\n",
              "\\item 11\n",
              "\\end{enumerate*}\n",
              "\n",
              "\\end{description}\n"
            ],
            "text/markdown": [
              "$training_data\n",
              ":   1. 6708\n",
              "2. 11\n",
              "\n",
              "\n",
              "\n",
              "$testing_data\n",
              ":   1. 2874\n",
              "2. 11\n",
              "\n",
              "\n",
              "\n",
              "\n",
              "\n"
            ],
            "text/plain": [
              "$training_data\n",
              "[1] 6708   11\n",
              "\n",
              "$testing_data\n",
              "[1] 2874   11\n"
            ]
          },
          "metadata": {},
          "output_type": "display_data"
        }
      ],
      "source": [
        "# Split the data into training and testing sets\n",
        "set.seed(256)\n",
        "trainIndex <- createDataPartition(Bank_exit_final$Exited, p = .7, list = FALSE, times = 1) \n",
        "training_data <- Bank_exit_final[trainIndex, ]\n",
        "testing_data <- Bank_exit_final[-trainIndex, ]\n",
        "\n",
        "list(training_data = dim(training_data), testing_data = dim(testing_data))"
      ]
    },
    {
      "cell_type": "code",
      "execution_count": 32,
      "metadata": {
        "colab": {
          "base_uri": "https://localhost:8080/",
          "height": 72
        },
        "id": "GY8AWQP0Wlvi",
        "outputId": "5736417b-ffdf-4bd9-b1bd-7cf8d1efb9ce",
        "vscode": {
          "languageId": "r"
        }
      },
      "outputs": [
        {
          "data": {
            "text/plain": [
              "\n",
              "   0    1 \n",
              "5393 1315 "
            ]
          },
          "metadata": {},
          "output_type": "display_data"
        }
      ],
      "source": [
        "train_summary <- table(training_data$Exited)\n",
        "train_summary"
      ]
    },
    {
      "cell_type": "code",
      "execution_count": 33,
      "metadata": {
        "colab": {
          "base_uri": "https://localhost:8080/",
          "height": 34
        },
        "id": "qSuomcnaWqfa",
        "outputId": "41b79de4-2ee3-4d40-e958-4a26fd83e876",
        "vscode": {
          "languageId": "r"
        }
      },
      "outputs": [
        {
          "data": {
            "text/html": [
              "<style>\n",
              ".list-inline {list-style: none; margin:0; padding: 0}\n",
              ".list-inline>li {display: inline-block}\n",
              ".list-inline>li:not(:last-child)::after {content: \"\\00b7\"; padding: 0 .5ex}\n",
              "</style>\n",
              "<ol class=list-inline><li>'CreditScore'</li><li>'Geography'</li><li>'Gender'</li><li>'Age'</li><li>'Tenure'</li><li>'Balance'</li><li>'NumOfProducts'</li><li>'HasCrCard'</li><li>'IsActiveMember'</li><li>'EstimatedSalary'</li><li>'Exited'</li></ol>\n"
            ],
            "text/latex": [
              "\\begin{enumerate*}\n",
              "\\item 'CreditScore'\n",
              "\\item 'Geography'\n",
              "\\item 'Gender'\n",
              "\\item 'Age'\n",
              "\\item 'Tenure'\n",
              "\\item 'Balance'\n",
              "\\item 'NumOfProducts'\n",
              "\\item 'HasCrCard'\n",
              "\\item 'IsActiveMember'\n",
              "\\item 'EstimatedSalary'\n",
              "\\item 'Exited'\n",
              "\\end{enumerate*}\n"
            ],
            "text/markdown": [
              "1. 'CreditScore'\n",
              "2. 'Geography'\n",
              "3. 'Gender'\n",
              "4. 'Age'\n",
              "5. 'Tenure'\n",
              "6. 'Balance'\n",
              "7. 'NumOfProducts'\n",
              "8. 'HasCrCard'\n",
              "9. 'IsActiveMember'\n",
              "10. 'EstimatedSalary'\n",
              "11. 'Exited'\n",
              "\n",
              "\n"
            ],
            "text/plain": [
              " [1] \"CreditScore\"     \"Geography\"       \"Gender\"          \"Age\"            \n",
              " [5] \"Tenure\"          \"Balance\"         \"NumOfProducts\"   \"HasCrCard\"      \n",
              " [9] \"IsActiveMember\"  \"EstimatedSalary\" \"Exited\"         "
            ]
          },
          "metadata": {},
          "output_type": "display_data"
        }
      ],
      "source": [
        "colnames(training_data)"
      ]
    },
    {
      "cell_type": "markdown",
      "metadata": {
        "id": "bhzYwZQgXU0Q"
      },
      "source": [
        "**MODEL BUILDING**"
      ]
    },
    {
      "cell_type": "code",
      "execution_count": 34,
      "metadata": {
        "id": "1MIh52E1WxlU",
        "vscode": {
          "languageId": "r"
        }
      },
      "outputs": [],
      "source": [
        "# Ensure 'Exited' is a factor with two levels: 0 and 1\n",
        "training_data$Exited <- factor(training_data$Exited, levels = c(0, 1))"
      ]
    },
    {
      "cell_type": "code",
      "execution_count": 35,
      "metadata": {
        "colab": {
          "base_uri": "https://localhost:8080/",
          "height": 345
        },
        "id": "g4bWuOMXXdEQ",
        "outputId": "4429e5af-63fd-4f1e-f985-652d2492c8ef",
        "vscode": {
          "languageId": "r"
        }
      },
      "outputs": [
        {
          "data": {
            "text/plain": [
              "CART \n",
              "\n",
              "6708 samples\n",
              "  10 predictor\n",
              "   2 classes: '0', '1' \n",
              "\n",
              "No pre-processing\n",
              "Resampling: Cross-Validated (10 fold) \n",
              "Summary of sample sizes: 6037, 6036, 6037, 6037, 6037, 6038, ... \n",
              "Resampling results across tuning parameters:\n",
              "\n",
              "  cp          Accuracy   Kappa    \n",
              "  0.02357414  0.8415347  0.3819996\n",
              "  0.03041825  0.8327376  0.3560093\n",
              "  0.07072243  0.8135037  0.1483438\n",
              "\n",
              "Accuracy was used to select the optimal model using the largest value.\n",
              "The final value used for the model was cp = 0.02357414."
            ]
          },
          "metadata": {},
          "output_type": "display_data"
        }
      ],
      "source": [
        "# Decision Tree\n",
        "# Load necessary library\n",
        "library(caret)\n",
        "\n",
        "# Set up training control\n",
        "train_control <- trainControl(method = \"cv\", number = 10)\n",
        "\n",
        "# Train the model\n",
        "dt_model <- train(Exited ~ ., data = training_data, method = \"rpart\",\n",
        "                  trControl = train_control)\n",
        "\n",
        "dt_model"
      ]
    },
    {
      "cell_type": "code",
      "execution_count": 36,
      "metadata": {
        "colab": {
          "base_uri": "https://localhost:8080/"
        },
        "id": "IDut3gRcXktw",
        "outputId": "374571f6-db0a-4ad0-c997-b5c6d20a5780",
        "vscode": {
          "languageId": "r"
        }
      },
      "outputs": [
        {
          "name": "stdout",
          "output_type": "stream",
          "text": [
            "k-Nearest Neighbors \n",
            "\n",
            "6708 samples\n",
            "  10 predictor\n",
            "   2 classes: '0', '1' \n",
            "\n",
            "No pre-processing\n",
            "Resampling: Cross-Validated (10 fold) \n",
            "Summary of sample sizes: 6038, 6037, 6037, 6037, 6038, 6037, ... \n",
            "Resampling results:\n",
            "\n",
            "  Accuracy   Kappa    \n",
            "  0.8248357  0.1840844\n",
            "\n",
            "Tuning parameter 'k' was held constant at a value of 101\n"
          ]
        }
      ],
      "source": [
        "#The KNN model\n",
        "library(caret)\n",
        "# Set up training control for cross-validation\n",
        "train_control <- trainControl(method = \"cv\", number = 10)\n",
        "\n",
        "# I used k=101 because there are 10,000 rows using the square root rule it would be 100rows but to make it odd I used 101\n",
        "\n",
        "# Train the KNN model using the chosen k\n",
        "knn_model <- train(\n",
        "  Exited ~ .,\n",
        "  data = training_data,\n",
        "  method = \"knn\",\n",
        "  trControl = train_control,\n",
        "  tuneGrid = expand.grid(k = 101)\n",
        ")\n",
        "\n",
        "# Print the model details\n",
        "print(knn_model)"
      ]
    },
    {
      "cell_type": "markdown",
      "metadata": {
        "id": "t1fqNWkXZr7r"
      },
      "source": [
        "**MODEL EVALUATION**"
      ]
    },
    {
      "cell_type": "code",
      "execution_count": 37,
      "metadata": {
        "id": "qN9E78umaHvF",
        "vscode": {
          "languageId": "r"
        }
      },
      "outputs": [],
      "source": [
        "# Convert 'phishing' variable in testing_data to a factor with two levels\n",
        "testing_data$Exited <- factor(testing_data$Exited, levels = c(0, 1))"
      ]
    },
    {
      "cell_type": "code",
      "execution_count": 38,
      "metadata": {
        "colab": {
          "base_uri": "https://localhost:8080/",
          "height": 509
        },
        "id": "iurY7GdtZqik",
        "outputId": "c693cf99-7245-4f9b-f83c-cc0e7cfff456",
        "vscode": {
          "languageId": "r"
        }
      },
      "outputs": [],
      "source": [
        "# Evaluate Decision Tree\n",
        "\n",
        "# Predict on testing data\n",
        "dt_predictions <- predict(dt_model, newdata = testing_data)\n",
        "\n",
        "# Evaluate the model\n",
        "dt_results <- confusionMatrix(dt_predictions, testing_data$Exited)"
      ]
    },
    {
      "cell_type": "code",
      "execution_count": 39,
      "metadata": {
        "vscode": {
          "languageId": "r"
        }
      },
      "outputs": [
        {
          "name": "stdout",
          "output_type": "stream",
          "text": [
            "Confusion Matrix and Statistics\n",
            "\n",
            "          Reference\n",
            "Prediction    0    1\n",
            "         0 2198  361\n",
            "         1   86  229\n",
            "                                          \n",
            "               Accuracy : 0.8445          \n",
            "                 95% CI : (0.8307, 0.8575)\n",
            "    No Information Rate : 0.7947          \n",
            "    P-Value [Acc > NIR] : 5.27e-12        \n",
            "                                          \n",
            "                  Kappa : 0.4237          \n",
            "                                          \n",
            " Mcnemar's Test P-Value : < 2.2e-16       \n",
            "                                          \n",
            "            Sensitivity : 0.9623          \n",
            "            Specificity : 0.3881          \n",
            "         Pos Pred Value : 0.8589          \n",
            "         Neg Pred Value : 0.7270          \n",
            "             Prevalence : 0.7947          \n",
            "         Detection Rate : 0.7648          \n",
            "   Detection Prevalence : 0.8904          \n",
            "      Balanced Accuracy : 0.6752          \n",
            "                                          \n",
            "       'Positive' Class : 0               \n",
            "                                          \n"
          ]
        },
        {
          "name": "stdout",
          "output_type": "stream",
          "text": [
            "[1] \"Accuracy: 0.84446764091858\"\n",
            "[1] \"Precision: 0.858929269245799\"\n",
            "[1] \"Recall: 0.962346760070052\"\n",
            "[1] \"F1 Score: 0.907701837703903\"\n"
          ]
        }
      ],
      "source": [
        "# Print Decision tree metrics\n",
        "print(dt_results)\n",
        "print(paste(\"Accuracy:\", dt_results$overall['Accuracy']))\n",
        "print(paste(\"Precision:\", dt_results$byClass['Precision']))\n",
        "print(paste(\"Recall:\", dt_results$byClass['Recall']))\n",
        "print(paste(\"F1 Score:\", dt_results$byClass['F1']))\n"
      ]
    },
    {
      "cell_type": "code",
      "execution_count": 40,
      "metadata": {
        "colab": {
          "base_uri": "https://localhost:8080/"
        },
        "id": "ealtfwyfaBX0",
        "outputId": "8869a74f-457b-424a-df6c-29e8842788af",
        "vscode": {
          "languageId": "r"
        }
      },
      "outputs": [
        {
          "name": "stdout",
          "output_type": "stream",
          "text": [
            "Confusion Matrix and Statistics\n",
            "\n",
            "          Reference\n",
            "Prediction    0    1\n",
            "         0 2275  520\n",
            "         1    9   70\n",
            "                                        \n",
            "               Accuracy : 0.8159        \n",
            "                 95% CI : (0.8013, 0.83)\n",
            "    No Information Rate : 0.7947        \n",
            "    P-Value [Acc > NIR] : 0.002352      \n",
            "                                        \n",
            "                  Kappa : 0.169         \n",
            "                                        \n",
            " Mcnemar's Test P-Value : < 2.2e-16     \n",
            "                                        \n",
            "            Sensitivity : 0.9961        \n",
            "            Specificity : 0.1186        \n",
            "         Pos Pred Value : 0.8140        \n",
            "         Neg Pred Value : 0.8861        \n",
            "             Prevalence : 0.7947        \n",
            "         Detection Rate : 0.7916        \n",
            "   Detection Prevalence : 0.9725        \n",
            "      Balanced Accuracy : 0.5574        \n",
            "                                        \n",
            "       'Positive' Class : 0             \n",
            "                                        \n"
          ]
        }
      ],
      "source": [
        "# Ensure 'Exited' variable in testing_data to a factor with two levels\n",
        "testing_data$Exited <- factor(testing_data$Exited, levels = c(0, 1))\n",
        "\n",
        "# Predict the Exited outcome using the trained KNN model\n",
        "predicted_values <- predict(knn_model, newdata = testing_data)\n",
        "\n",
        "# Evaluate the model's performance\n",
        "confusion_matrix <- confusionMatrix(predicted_values, testing_data$Exited)\n",
        "\n",
        "# Output the confusion matrix\n",
        "print(confusion_matrix)"
      ]
    },
    {
      "cell_type": "code",
      "execution_count": 41,
      "metadata": {
        "vscode": {
          "languageId": "r"
        }
      },
      "outputs": [
        {
          "name": "stdout",
          "output_type": "stream",
          "text": [
            "Confusion Matrix and Statistics\n",
            "\n",
            "          Reference\n",
            "Prediction    0    1\n",
            "         0 2275  520\n",
            "         1    9   70\n",
            "                                        \n",
            "               Accuracy : 0.8159        \n",
            "                 95% CI : (0.8013, 0.83)\n",
            "    No Information Rate : 0.7947        \n",
            "    P-Value [Acc > NIR] : 0.002352      \n",
            "                                        \n",
            "                  Kappa : 0.169         \n",
            "                                        \n",
            " Mcnemar's Test P-Value : < 2.2e-16     \n",
            "                                        \n",
            "            Sensitivity : 0.9961        \n",
            "            Specificity : 0.1186        \n",
            "         Pos Pred Value : 0.8140        \n",
            "         Neg Pred Value : 0.8861        \n",
            "             Prevalence : 0.7947        \n",
            "         Detection Rate : 0.7916        \n",
            "   Detection Prevalence : 0.9725        \n",
            "      Balanced Accuracy : 0.5574        \n",
            "                                        \n",
            "       'Positive' Class : 0             \n",
            "                                        \n"
          ]
        },
        {
          "name": "stdout",
          "output_type": "stream",
          "text": [
            "[1] \"Accuracy: 0.815935977731385\"\n",
            "[1] \"Precision: 0.813953488372093\"\n",
            "[1] \"Recall: 0.996059544658494\"\n",
            "[1] \"F1 Score: 0.895845638905296\"\n"
          ]
        }
      ],
      "source": [
        "# Print KNN metrics\n",
        "print(confusion_matrix)\n",
        "print(paste(\"Accuracy:\", confusion_matrix$overall['Accuracy']))\n",
        "print(paste(\"Precision:\", confusion_matrix$byClass['Precision']))\n",
        "print(paste(\"Recall:\", confusion_matrix$byClass['Recall']))\n",
        "print(paste(\"F1 Score:\", confusion_matrix$byClass['F1']))"
      ]
    }
  ],
  "metadata": {
    "colab": {
      "provenance": []
    },
    "kernelspec": {
      "display_name": "R",
      "language": "R",
      "name": "ir"
    },
    "language_info": {
      "codemirror_mode": "r",
      "file_extension": ".r",
      "mimetype": "text/x-r-source",
      "name": "R",
      "pygments_lexer": "r",
      "version": "3.12.1"
    }
  },
  "nbformat": 4,
  "nbformat_minor": 0
}
